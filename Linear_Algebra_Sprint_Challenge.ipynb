{
  "nbformat": 4,
  "nbformat_minor": 0,
  "metadata": {
    "colab": {
      "name": "Linear_Algebra_Sprint_Challenge.ipynb",
      "version": "0.3.2",
      "provenance": [],
      "include_colab_link": true
    },
    "kernelspec": {
      "name": "python3",
      "display_name": "Python 3"
    }
  },
  "cells": [
    {
      "cell_type": "markdown",
      "metadata": {
        "id": "view-in-github",
        "colab_type": "text"
      },
      "source": [
        "<a href=\"https://colab.research.google.com/github/Hira63S/DS-Unit-2-Sprint-1-Linear-Algebra/blob/master/Linear_Algebra_Sprint_Challenge.ipynb\" target=\"_parent\"><img src=\"https://colab.research.google.com/assets/colab-badge.svg\" alt=\"Open In Colab\"/></a>"
      ]
    },
    {
      "metadata": {
        "id": "-wQxiT7yC4_v",
        "colab_type": "text"
      },
      "cell_type": "markdown",
      "source": [
        "#Linear Algebra"
      ]
    },
    {
      "metadata": {
        "id": "H5kCE2fhKqjb",
        "colab_type": "code",
        "colab": {}
      },
      "cell_type": "code",
      "source": [
        "import numpy as np\n",
        "import pandas as pd\n",
        "import matplotlib.pyplot as plt\n",
        "from scipy import linalg\n",
        "\n",
        "from numpy.linalg import eig"
      ],
      "execution_count": 0,
      "outputs": []
    },
    {
      "metadata": {
        "id": "aiUlaNJkECCL",
        "colab_type": "text"
      },
      "cell_type": "markdown",
      "source": [
        "## 1.1 Graph vector $\\vec{a}$ \n",
        "\n",
        "\\begin{align}\n",
        "\\vec{a} = \\begin{bmatrix} 3 \\\\ 2 \\end{bmatrix}\n",
        "\\end{align}"
      ]
    },
    {
      "metadata": {
        "id": "QpCKt0n5IeiY",
        "colab_type": "code",
        "colab": {
          "base_uri": "https://localhost:8080/",
          "height": 281
        },
        "outputId": "af555779-9016-4d12-ffc3-d16c19ded263"
      },
      "cell_type": "code",
      "source": [
        "a = np.array([3, 2])\n",
        "a\n",
        "\n",
        "plt.arrow(0, 0, 3, 2, head_width=.06, head_length=.06, color = 'Teal')\n",
        "plt.xlim(0,4)\n",
        "plt.ylim(0,4)\n",
        "plt.title('Vector a')\n",
        "plt.show()"
      ],
      "execution_count": 112,
      "outputs": [
        {
          "output_type": "display_data",
          "data": {
            "image/png": "[encoded data removed]",
            "text/plain": [
              "<Figure size 432x288 with 1 Axes>"
            ]
          },
          "metadata": {
            "tags": []
          }
        }
      ]
    },
    {
      "metadata": {
        "id": "BDLB08NXEiUN",
        "colab_type": "text"
      },
      "cell_type": "markdown",
      "source": [
        "## 1.2 Find $||\\vec{b}||$. What does the norm of a vector represent?\n",
        "\\begin{align}\n",
        "\\vec{b} = \\begin{bmatrix} 17 & -4 & -2 & 1\\end{bmatrix}\n",
        "\\end{align}\n"
      ]
    },
    {
      "metadata": {
        "id": "Fp3mocAKIfGD",
        "colab_type": "code",
        "colab": {
          "base_uri": "https://localhost:8080/",
          "height": 34
        },
        "outputId": "95a55852-442d-4b7b-92c4-c19ff1b0a23b"
      },
      "cell_type": "code",
      "source": [
        "def vector_norm(vector):\n",
        "  return (sum([vector[i]**2 for i in range(len(vector))])**.5)\n",
        "\n",
        "b = np.array([17, -4, -2, 1])\n",
        "vector_norm(b)"
      ],
      "execution_count": 10,
      "outputs": [
        {
          "output_type": "execute_result",
          "data": {
            "text/plain": [
              "17.60681686165901"
            ]
          },
          "metadata": {
            "tags": []
          },
          "execution_count": 10
        }
      ]
    },
    {
      "metadata": {
        "id": "N0y8Xc2ZZVc5",
        "colab_type": "text"
      },
      "cell_type": "markdown",
      "source": [
        "The norm represents the length of a vector."
      ]
    },
    {
      "metadata": {
        "id": "vBbJ0ZyPD6RG",
        "colab_type": "text"
      },
      "cell_type": "markdown",
      "source": [
        "## 1.3 Find $\\vec{c} \\cdot \\vec{d}$\n",
        "\n",
        "\\begin{align}\n",
        "\\vec{c} = \\begin{bmatrix}3 & 7 & -2 & 12\\end{bmatrix}\n",
        "\\qquad\n",
        "\\vec{d} = \\begin{bmatrix}9 & -7 & 4 & 6\\end{bmatrix}\n",
        "\\end{align}"
      ]
    },
    {
      "metadata": {
        "id": "NYb8BalmIfgY",
        "colab_type": "code",
        "colab": {
          "base_uri": "https://localhost:8080/",
          "height": 67
        },
        "outputId": "03e6654d-86e7-49ad-bf88-a7c2bbedc0b5"
      },
      "cell_type": "code",
      "source": [
        "c = np.array([3, 7, -2, 12])\n",
        "d = np.array([9, -7, 4, 6])\n",
        "\n",
        "#One way#\n",
        "product = np.multiply(c, d)\n",
        "print(product)\n",
        "\n",
        "add = (27 + (-49) + (-8) + 72)\n",
        "print(add)\n",
        "\n",
        "#Second Way\n",
        "dot_product = ((3*9) + (7*-7) + (-2*4) + (12*6))\n",
        "dot_product"
      ],
      "execution_count": 17,
      "outputs": [
        {
          "output_type": "stream",
          "text": [
            "[ 27 -49  -8  72]\n",
            "42\n"
          ],
          "name": "stdout"
        },
        {
          "output_type": "execute_result",
          "data": {
            "text/plain": [
              "42"
            ]
          },
          "metadata": {
            "tags": []
          },
          "execution_count": 17
        }
      ]
    },
    {
      "metadata": {
        "id": "gS85sJHWG7iU",
        "colab_type": "text"
      },
      "cell_type": "markdown",
      "source": [
        "## 1.4 Find $E^{-1}$ and $E^{T}$\n",
        "\n",
        "\\begin{align}\n",
        "E = \n",
        "\\begin{bmatrix}\n",
        "    7 & 4 & 2 \\\\\n",
        "    1 & 3 & -1 \\\\\n",
        "    2 & 6 & -4\n",
        "\\end{bmatrix}\n",
        "\\end{align}"
      ]
    },
    {
      "metadata": {
        "id": "QiISq5egIgSS",
        "colab_type": "code",
        "colab": {
          "base_uri": "https://localhost:8080/",
          "height": 67
        },
        "outputId": "524bbd8e-e725-4c8c-ad5d-26b5b1d452a5"
      },
      "cell_type": "code",
      "source": [
        "E = np.array([[7,4,2],\n",
        "             [1,3,-1],\n",
        "             [2,6,-4]])\n",
        "\n",
        "E_inv = linalg.inv(E)\n",
        "E_inv"
      ],
      "execution_count": 22,
      "outputs": [
        {
          "output_type": "execute_result",
          "data": {
            "text/plain": [
              "array([[ 0.17647059, -0.82352941,  0.29411765],\n",
              "       [-0.05882353,  0.94117647, -0.26470588],\n",
              "       [ 0.        ,  1.        , -0.5       ]])"
            ]
          },
          "metadata": {
            "tags": []
          },
          "execution_count": 22
        }
      ]
    },
    {
      "metadata": {
        "id": "K6D2Us-TMt-4",
        "colab_type": "code",
        "colab": {
          "base_uri": "https://localhost:8080/",
          "height": 67
        },
        "outputId": "e5953fcc-4f55-4218-ad40-2ca09816bc71"
      },
      "cell_type": "code",
      "source": [
        "E_transpose = np.transpose(E)\n",
        "E_transpose"
      ],
      "execution_count": 24,
      "outputs": [
        {
          "output_type": "execute_result",
          "data": {
            "text/plain": [
              "array([[ 7,  1,  2],\n",
              "       [ 4,  3,  6],\n",
              "       [ 2, -1, -4]])"
            ]
          },
          "metadata": {
            "tags": []
          },
          "execution_count": 24
        }
      ]
    },
    {
      "metadata": {
        "id": "TPzrKzEvC5YU",
        "colab_type": "text"
      },
      "cell_type": "markdown",
      "source": [
        "# Intermediate Linear Algebra"
      ]
    },
    {
      "metadata": {
        "id": "ap-us2lBGQyi",
        "colab_type": "text"
      },
      "cell_type": "markdown",
      "source": [
        "## 2.1 Suppose that the number of customers at a ski resort as well as the number of inches of fresh powder (snow)  was recorded for 7 days. \n",
        "\n",
        "### Customers: [820, 760, 1250, 990, 1080, 1450, 1600]\n",
        "\n",
        "### Inches of new snow: [0, 1, 7, 1, 0, 6, 4 ]\n",
        "\n",
        "## Find the mean, variance, and standard deviation for both the number of customers and inches of new snow for the week. You may use library functions, dataframes, .describe(), etc. \n",
        "\n"
      ]
    },
    {
      "metadata": {
        "id": "xS-JuHl9JiiP",
        "colab_type": "code",
        "outputId": "8a4eccad-7300-486f-8a84-3ceb65e7654e",
        "colab": {
          "base_uri": "https://localhost:8080/",
          "height": 195
        }
      },
      "cell_type": "code",
      "source": [
        "import pandas as pd\n",
        "\n",
        "customers = [820, 760, 1250, 990, 1080, 1450, 1600]\n",
        "snow = [0, 1, 7, 1, 0, 6, 4]\n",
        "\n",
        "df = pd.DataFrame({'customers': customers, 'snow': snow})\n",
        "\n",
        "df.head()"
      ],
      "execution_count": 38,
      "outputs": [
        {
          "output_type": "execute_result",
          "data": {
            "text/html": [
              "<div>\n",
              "<style scoped>\n",
              "    .dataframe tbody tr th:only-of-type {\n",
              "        vertical-align: middle;\n",
              "    }\n",
              "\n",
              "    .dataframe tbody tr th {\n",
              "        vertical-align: top;\n",
              "    }\n",
              "\n",
              "    .dataframe thead th {\n",
              "        text-align: right;\n",
              "    }\n",
              "</style>\n",
              "<table border=\"1\" class=\"dataframe\">\n",
              "  <thead>\n",
              "    <tr style=\"text-align: right;\">\n",
              "      <th></th>\n",
              "      <th>customers</th>\n",
              "      <th>snow</th>\n",
              "    </tr>\n",
              "  </thead>\n",
              "  <tbody>\n",
              "    <tr>\n",
              "      <th>0</th>\n",
              "      <td>820</td>\n",
              "      <td>0</td>\n",
              "    </tr>\n",
              "    <tr>\n",
              "      <th>1</th>\n",
              "      <td>760</td>\n",
              "      <td>1</td>\n",
              "    </tr>\n",
              "    <tr>\n",
              "      <th>2</th>\n",
              "      <td>1250</td>\n",
              "      <td>7</td>\n",
              "    </tr>\n",
              "    <tr>\n",
              "      <th>3</th>\n",
              "      <td>990</td>\n",
              "      <td>1</td>\n",
              "    </tr>\n",
              "    <tr>\n",
              "      <th>4</th>\n",
              "      <td>1080</td>\n",
              "      <td>0</td>\n",
              "    </tr>\n",
              "  </tbody>\n",
              "</table>\n",
              "</div>"
            ],
            "text/plain": [
              "   customers  snow\n",
              "0        820     0\n",
              "1        760     1\n",
              "2       1250     7\n",
              "3        990     1\n",
              "4       1080     0"
            ]
          },
          "metadata": {
            "tags": []
          },
          "execution_count": 38
        }
      ]
    },
    {
      "metadata": {
        "id": "AqzCFh1ROCoR",
        "colab_type": "code",
        "colab": {}
      },
      "cell_type": "code",
      "source": [
        "def variance(nums):\n",
        "  mean = sum(nums)/len(nums)\n",
        "  return sum((x-mean) ** 2 for x in nums) / len(nums)"
      ],
      "execution_count": 0,
      "outputs": []
    },
    {
      "metadata": {
        "id": "cNxeVa0cg40d",
        "colab_type": "code",
        "colab": {
          "base_uri": "https://localhost:8080/",
          "height": 67
        },
        "outputId": "e963ddd2-aa45-4ac4-8a2d-2f7d1cff892c"
      },
      "cell_type": "code",
      "source": [
        "cust_mean = np.mean(customers)\n",
        "cust_var = variance(customers)\n",
        "cust_std = np.std(customers)\n",
        "\n",
        "print(cust_mean)\n",
        "print(cust_var)\n",
        "print(cust_std)\n"
      ],
      "execution_count": 33,
      "outputs": [
        {
          "output_type": "stream",
          "text": [
            "1135.7142857142858\n",
            "84653.06122448981\n",
            "290.95199127087926\n"
          ],
          "name": "stdout"
        }
      ]
    },
    {
      "metadata": {
        "id": "wfGTf2yYNcK8",
        "colab_type": "code",
        "colab": {
          "base_uri": "https://localhost:8080/",
          "height": 67
        },
        "outputId": "546b0fe2-99e0-4e75-ffb2-42f5b1515570"
      },
      "cell_type": "code",
      "source": [
        "snow_mean = np.mean(snow)\n",
        "snow_var = np.var(snow)\n",
        "snow_std = np.std(snow)\n",
        "\n",
        "print(snow_mean)\n",
        "print(snow_var)\n",
        "print(snow_std)\n"
      ],
      "execution_count": 34,
      "outputs": [
        {
          "output_type": "stream",
          "text": [
            "2.7142857142857144\n",
            "7.346938775510203\n",
            "2.7105237087157534\n"
          ],
          "name": "stdout"
        }
      ]
    },
    {
      "metadata": {
        "id": "3ePJtK4VLTLH",
        "colab_type": "text"
      },
      "cell_type": "markdown",
      "source": [
        "## 2.2 Are the variances of the number of customers and inches of snow comparable? \n",
        "## Why or why not? "
      ]
    },
    {
      "metadata": {
        "id": "uOibw6qvOQQe",
        "colab_type": "text"
      },
      "cell_type": "markdown",
      "source": [
        "The variance for customers is extremely high and the variance for inches of snow is near the maximum value of inches of snow. The variances are not comparable because these are two different variables, measuring different features."
      ]
    },
    {
      "metadata": {
        "id": "32GSGBHCaXLg",
        "colab_type": "code",
        "colab": {
          "base_uri": "https://localhost:8080/",
          "height": 34
        },
        "outputId": "77fe405d-7518-42a6-8cfe-21215e3dac33"
      },
      "cell_type": "code",
      "source": [
        "print(\"How many times bigger is Customer variance than Snow variance? \", cust_var/snow_var)\n"
      ],
      "execution_count": 114,
      "outputs": [
        {
          "output_type": "stream",
          "text": [
            "How many times bigger is Customer variance than Snow variance?  11522.222222222224\n"
          ],
          "name": "stdout"
        }
      ]
    },
    {
      "metadata": {
        "id": "ixhZVGxfGVFh",
        "colab_type": "text"
      },
      "cell_type": "markdown",
      "source": [
        "## 2.3 Find the variance-covariance matrix for the number of customers and inches of snow at the ski resort. "
      ]
    },
    {
      "metadata": {
        "id": "IbglmVaxJjO7",
        "colab_type": "code",
        "colab": {
          "base_uri": "https://localhost:8080/",
          "height": 106
        },
        "outputId": "d14db9e1-7fe9-417e-8f24-fc5536f236cf"
      },
      "cell_type": "code",
      "source": [
        "df.cov()"
      ],
      "execution_count": 39,
      "outputs": [
        {
          "output_type": "execute_result",
          "data": {
            "text/html": [
              "<div>\n",
              "<style scoped>\n",
              "    .dataframe tbody tr th:only-of-type {\n",
              "        vertical-align: middle;\n",
              "    }\n",
              "\n",
              "    .dataframe tbody tr th {\n",
              "        vertical-align: top;\n",
              "    }\n",
              "\n",
              "    .dataframe thead th {\n",
              "        text-align: right;\n",
              "    }\n",
              "</style>\n",
              "<table border=\"1\" class=\"dataframe\">\n",
              "  <thead>\n",
              "    <tr style=\"text-align: right;\">\n",
              "      <th></th>\n",
              "      <th>customers</th>\n",
              "      <th>snow</th>\n",
              "    </tr>\n",
              "  </thead>\n",
              "  <tbody>\n",
              "    <tr>\n",
              "      <th>customers</th>\n",
              "      <td>98761.904762</td>\n",
              "      <td>670.238095</td>\n",
              "    </tr>\n",
              "    <tr>\n",
              "      <th>snow</th>\n",
              "      <td>670.238095</td>\n",
              "      <td>8.571429</td>\n",
              "    </tr>\n",
              "  </tbody>\n",
              "</table>\n",
              "</div>"
            ],
            "text/plain": [
              "              customers        snow\n",
              "customers  98761.904762  670.238095\n",
              "snow         670.238095    8.571429"
            ]
          },
          "metadata": {
            "tags": []
          },
          "execution_count": 39
        }
      ]
    },
    {
      "metadata": {
        "id": "6Ks3_TbNC5yJ",
        "colab_type": "text"
      },
      "cell_type": "markdown",
      "source": [
        "# PCA"
      ]
    },
    {
      "metadata": {
        "id": "f6qJAPaaOdzD",
        "colab_type": "text"
      },
      "cell_type": "markdown",
      "source": [
        "## 3.1 Standardize the data so that it has a mean of 0 and a standard deviation of 1. (You may use library functions)\n",
        "\n",
        "We have included some code to get you started so that you don't get stuck on something that isn't standardizing the data or PCA.\n",
        "\n",
        "This might be helpful:\n",
        "\n",
        "<https://scikit-learn.org/stable/modules/generated/sklearn.preprocessing.StandardScaler.html>"
      ]
    },
    {
      "metadata": {
        "id": "bogsxfNyJlAw",
        "colab_type": "code",
        "outputId": "5b68ae9a-0671-47f0-a52f-0b97ededb940",
        "colab": {
          "base_uri": "https://localhost:8080/",
          "height": 219
        }
      },
      "cell_type": "code",
      "source": [
        "# Let me get you some data to start you off.\n",
        "import pandas as pd\n",
        "\n",
        "data = {\"Country\": [\"England\",\"Wales\",\"Scotland\",\"North Ireland\"], \n",
        "        \"Cheese\": [105,103,103,66], \n",
        "        \"Carcass_Meat\": [245,227,242,267], \n",
        "        \"Other_Meat\": [685, 803, 750, 586], \n",
        "        \"Fish\": [147, 160, 122, 93], \n",
        "        \"Fats_and_Oils\": [193, 235, 184, 209], \n",
        "        \"Sugars\": [156, 175, 147, 139], \n",
        "        \"Fresh_Potatoes\": [720, 874, 566, 1033], \n",
        "        \"Fresh_Veg\": [253, 265, 171, 143], \n",
        "        \"Other_Veg\": [488, 570, 418, 355], \n",
        "        \"Processed_Potatoes\": [198, 203, 220, 187], \n",
        "        \"Processed_Veg\": [360, 365, 337, 334], \n",
        "        \"Fresh_Fruit\": [1102, 1137, 957, 674], \n",
        "        \"Cereals\": [1472, 1582, 1462, 1494], \n",
        "        \"Beverages\": [57,73,53,47], \n",
        "        \"Soft_Drinks\": [1374, 1256, 1572, 1506], \n",
        "        \"Alcoholic Drinks\": [375, 475, 458, 135], \n",
        "        \"Confectionery\": [54, 64, 62, 41]}\n",
        "\n",
        "df = pd.DataFrame(data)\n",
        "\n",
        "# Look at the data\n",
        "df.head()"
      ],
      "execution_count": 116,
      "outputs": [
        {
          "output_type": "execute_result",
          "data": {
            "text/html": [
              "<div>\n",
              "<style scoped>\n",
              "    .dataframe tbody tr th:only-of-type {\n",
              "        vertical-align: middle;\n",
              "    }\n",
              "\n",
              "    .dataframe tbody tr th {\n",
              "        vertical-align: top;\n",
              "    }\n",
              "\n",
              "    .dataframe thead th {\n",
              "        text-align: right;\n",
              "    }\n",
              "</style>\n",
              "<table border=\"1\" class=\"dataframe\">\n",
              "  <thead>\n",
              "    <tr style=\"text-align: right;\">\n",
              "      <th></th>\n",
              "      <th>Country</th>\n",
              "      <th>Cheese</th>\n",
              "      <th>Carcass_Meat</th>\n",
              "      <th>Other_Meat</th>\n",
              "      <th>Fish</th>\n",
              "      <th>Fats_and_Oils</th>\n",
              "      <th>Sugars</th>\n",
              "      <th>Fresh_Potatoes</th>\n",
              "      <th>Fresh_Veg</th>\n",
              "      <th>Other_Veg</th>\n",
              "      <th>Processed_Potatoes</th>\n",
              "      <th>Processed_Veg</th>\n",
              "      <th>Fresh_Fruit</th>\n",
              "      <th>Cereals</th>\n",
              "      <th>Beverages</th>\n",
              "      <th>Soft_Drinks</th>\n",
              "      <th>Alcoholic Drinks</th>\n",
              "      <th>Confectionery</th>\n",
              "    </tr>\n",
              "  </thead>\n",
              "  <tbody>\n",
              "    <tr>\n",
              "      <th>0</th>\n",
              "      <td>England</td>\n",
              "      <td>105</td>\n",
              "      <td>245</td>\n",
              "      <td>685</td>\n",
              "      <td>147</td>\n",
              "      <td>193</td>\n",
              "      <td>156</td>\n",
              "      <td>720</td>\n",
              "      <td>253</td>\n",
              "      <td>488</td>\n",
              "      <td>198</td>\n",
              "      <td>360</td>\n",
              "      <td>1102</td>\n",
              "      <td>1472</td>\n",
              "      <td>57</td>\n",
              "      <td>1374</td>\n",
              "      <td>375</td>\n",
              "      <td>54</td>\n",
              "    </tr>\n",
              "    <tr>\n",
              "      <th>1</th>\n",
              "      <td>Wales</td>\n",
              "      <td>103</td>\n",
              "      <td>227</td>\n",
              "      <td>803</td>\n",
              "      <td>160</td>\n",
              "      <td>235</td>\n",
              "      <td>175</td>\n",
              "      <td>874</td>\n",
              "      <td>265</td>\n",
              "      <td>570</td>\n",
              "      <td>203</td>\n",
              "      <td>365</td>\n",
              "      <td>1137</td>\n",
              "      <td>1582</td>\n",
              "      <td>73</td>\n",
              "      <td>1256</td>\n",
              "      <td>475</td>\n",
              "      <td>64</td>\n",
              "    </tr>\n",
              "    <tr>\n",
              "      <th>2</th>\n",
              "      <td>Scotland</td>\n",
              "      <td>103</td>\n",
              "      <td>242</td>\n",
              "      <td>750</td>\n",
              "      <td>122</td>\n",
              "      <td>184</td>\n",
              "      <td>147</td>\n",
              "      <td>566</td>\n",
              "      <td>171</td>\n",
              "      <td>418</td>\n",
              "      <td>220</td>\n",
              "      <td>337</td>\n",
              "      <td>957</td>\n",
              "      <td>1462</td>\n",
              "      <td>53</td>\n",
              "      <td>1572</td>\n",
              "      <td>458</td>\n",
              "      <td>62</td>\n",
              "    </tr>\n",
              "    <tr>\n",
              "      <th>3</th>\n",
              "      <td>North Ireland</td>\n",
              "      <td>66</td>\n",
              "      <td>267</td>\n",
              "      <td>586</td>\n",
              "      <td>93</td>\n",
              "      <td>209</td>\n",
              "      <td>139</td>\n",
              "      <td>1033</td>\n",
              "      <td>143</td>\n",
              "      <td>355</td>\n",
              "      <td>187</td>\n",
              "      <td>334</td>\n",
              "      <td>674</td>\n",
              "      <td>1494</td>\n",
              "      <td>47</td>\n",
              "      <td>1506</td>\n",
              "      <td>135</td>\n",
              "      <td>41</td>\n",
              "    </tr>\n",
              "  </tbody>\n",
              "</table>\n",
              "</div>"
            ],
            "text/plain": [
              "         Country  Cheese  Carcass_Meat  Other_Meat  Fish  Fats_and_Oils  \\\n",
              "0        England     105           245         685   147            193   \n",
              "1          Wales     103           227         803   160            235   \n",
              "2       Scotland     103           242         750   122            184   \n",
              "3  North Ireland      66           267         586    93            209   \n",
              "\n",
              "   Sugars  Fresh_Potatoes  Fresh_Veg  Other_Veg  Processed_Potatoes  \\\n",
              "0     156             720        253        488                 198   \n",
              "1     175             874        265        570                 203   \n",
              "2     147             566        171        418                 220   \n",
              "3     139            1033        143        355                 187   \n",
              "\n",
              "   Processed_Veg  Fresh_Fruit  Cereals  Beverages  Soft_Drinks  \\\n",
              "0            360         1102     1472         57         1374   \n",
              "1            365         1137     1582         73         1256   \n",
              "2            337          957     1462         53         1572   \n",
              "3            334          674     1494         47         1506   \n",
              "\n",
              "   Alcoholic Drinks  Confectionery  \n",
              "0               375             54  \n",
              "1               475             64  \n",
              "2               458             62  \n",
              "3               135             41  "
            ]
          },
          "metadata": {
            "tags": []
          },
          "execution_count": 116
        }
      ]
    },
    {
      "metadata": {
        "id": "_apmHvIOR8Gs",
        "colab_type": "code",
        "colab": {
          "base_uri": "https://localhost:8080/",
          "height": 34
        },
        "outputId": "cd6db845-ad51-447a-c75c-d95665b6e6db"
      },
      "cell_type": "code",
      "source": [
        "df.shape"
      ],
      "execution_count": 59,
      "outputs": [
        {
          "output_type": "execute_result",
          "data": {
            "text/plain": [
              "(4, 18)"
            ]
          },
          "metadata": {
            "tags": []
          },
          "execution_count": 59
        }
      ]
    },
    {
      "metadata": {
        "id": "2HY91nOpaTTZ",
        "colab_type": "code",
        "colab": {
          "base_uri": "https://localhost:8080/",
          "height": 319
        },
        "outputId": "53590c89-97ce-424f-afb3-e8fea423ef63"
      },
      "cell_type": "code",
      "source": [
        "df.columns.tolist()"
      ],
      "execution_count": 51,
      "outputs": [
        {
          "output_type": "execute_result",
          "data": {
            "text/plain": [
              "['Country',\n",
              " 'Cheese',\n",
              " 'Carcass_Meat',\n",
              " 'Other_Meat',\n",
              " 'Fish',\n",
              " 'Fats_and_Oils',\n",
              " 'Sugars',\n",
              " 'Fresh_Potatoes',\n",
              " 'Fresh_Veg',\n",
              " 'Other_Veg',\n",
              " 'Processed_Potatoes',\n",
              " 'Processed_Veg',\n",
              " 'Fresh_Fruit',\n",
              " 'Cereals',\n",
              " 'Beverages',\n",
              " 'Soft_Drinks',\n",
              " 'Alcoholic Drinks',\n",
              " 'Confectionery']"
            ]
          },
          "metadata": {
            "tags": []
          },
          "execution_count": 51
        }
      ]
    },
    {
      "metadata": {
        "id": "WORPPkkHQ3hf",
        "colab_type": "code",
        "colab": {}
      },
      "cell_type": "code",
      "source": [
        "X = df[['Cheese',\n",
        " 'Carcass_Meat',\n",
        " 'Other_Meat',\n",
        " 'Fish',\n",
        " 'Fats_and_Oils',\n",
        " 'Sugars',\n",
        " 'Fresh_Potatoes',\n",
        " 'Fresh_Veg',\n",
        " 'Other_Veg',\n",
        " 'Processed_Potatoes',\n",
        " 'Processed_Veg',\n",
        " 'Fresh_Fruit',\n",
        " 'Cereals',\n",
        " 'Beverages',\n",
        " 'Soft_Drinks',\n",
        " 'Alcoholic Drinks',\n",
        " 'Confectionery']]"
      ],
      "execution_count": 0,
      "outputs": []
    },
    {
      "metadata": {
        "id": "pfnF2AUcP8t_",
        "colab_type": "code",
        "colab": {
          "base_uri": "https://localhost:8080/",
          "height": 202
        },
        "outputId": "71b751d6-bde1-43fb-de3d-7705ac215986"
      },
      "cell_type": "code",
      "source": [
        "centered_data = X - (X.mean())\n",
        "\n",
        "centered_data"
      ],
      "execution_count": 119,
      "outputs": [
        {
          "output_type": "execute_result",
          "data": {
            "text/html": [
              "<div>\n",
              "<style scoped>\n",
              "    .dataframe tbody tr th:only-of-type {\n",
              "        vertical-align: middle;\n",
              "    }\n",
              "\n",
              "    .dataframe tbody tr th {\n",
              "        vertical-align: top;\n",
              "    }\n",
              "\n",
              "    .dataframe thead th {\n",
              "        text-align: right;\n",
              "    }\n",
              "</style>\n",
              "<table border=\"1\" class=\"dataframe\">\n",
              "  <thead>\n",
              "    <tr style=\"text-align: right;\">\n",
              "      <th></th>\n",
              "      <th>Cheese</th>\n",
              "      <th>Carcass_Meat</th>\n",
              "      <th>Other_Meat</th>\n",
              "      <th>Fish</th>\n",
              "      <th>Fats_and_Oils</th>\n",
              "      <th>Sugars</th>\n",
              "      <th>Fresh_Potatoes</th>\n",
              "      <th>Fresh_Veg</th>\n",
              "      <th>Other_Veg</th>\n",
              "      <th>Processed_Potatoes</th>\n",
              "      <th>Processed_Veg</th>\n",
              "      <th>Fresh_Fruit</th>\n",
              "      <th>Cereals</th>\n",
              "      <th>Beverages</th>\n",
              "      <th>Soft_Drinks</th>\n",
              "      <th>Alcoholic Drinks</th>\n",
              "      <th>Confectionery</th>\n",
              "    </tr>\n",
              "  </thead>\n",
              "  <tbody>\n",
              "    <tr>\n",
              "      <th>0</th>\n",
              "      <td>10.75</td>\n",
              "      <td>-0.25</td>\n",
              "      <td>-21.0</td>\n",
              "      <td>16.5</td>\n",
              "      <td>-12.25</td>\n",
              "      <td>1.75</td>\n",
              "      <td>-78.25</td>\n",
              "      <td>45.0</td>\n",
              "      <td>30.25</td>\n",
              "      <td>-4.0</td>\n",
              "      <td>11.0</td>\n",
              "      <td>134.5</td>\n",
              "      <td>-30.5</td>\n",
              "      <td>-0.5</td>\n",
              "      <td>-53.0</td>\n",
              "      <td>14.25</td>\n",
              "      <td>-1.25</td>\n",
              "    </tr>\n",
              "    <tr>\n",
              "      <th>1</th>\n",
              "      <td>8.75</td>\n",
              "      <td>-18.25</td>\n",
              "      <td>97.0</td>\n",
              "      <td>29.5</td>\n",
              "      <td>29.75</td>\n",
              "      <td>20.75</td>\n",
              "      <td>75.75</td>\n",
              "      <td>57.0</td>\n",
              "      <td>112.25</td>\n",
              "      <td>1.0</td>\n",
              "      <td>16.0</td>\n",
              "      <td>169.5</td>\n",
              "      <td>79.5</td>\n",
              "      <td>15.5</td>\n",
              "      <td>-171.0</td>\n",
              "      <td>114.25</td>\n",
              "      <td>8.75</td>\n",
              "    </tr>\n",
              "    <tr>\n",
              "      <th>2</th>\n",
              "      <td>8.75</td>\n",
              "      <td>-3.25</td>\n",
              "      <td>44.0</td>\n",
              "      <td>-8.5</td>\n",
              "      <td>-21.25</td>\n",
              "      <td>-7.25</td>\n",
              "      <td>-232.25</td>\n",
              "      <td>-37.0</td>\n",
              "      <td>-39.75</td>\n",
              "      <td>18.0</td>\n",
              "      <td>-12.0</td>\n",
              "      <td>-10.5</td>\n",
              "      <td>-40.5</td>\n",
              "      <td>-4.5</td>\n",
              "      <td>145.0</td>\n",
              "      <td>97.25</td>\n",
              "      <td>6.75</td>\n",
              "    </tr>\n",
              "    <tr>\n",
              "      <th>3</th>\n",
              "      <td>-28.25</td>\n",
              "      <td>21.75</td>\n",
              "      <td>-120.0</td>\n",
              "      <td>-37.5</td>\n",
              "      <td>3.75</td>\n",
              "      <td>-15.25</td>\n",
              "      <td>234.75</td>\n",
              "      <td>-65.0</td>\n",
              "      <td>-102.75</td>\n",
              "      <td>-15.0</td>\n",
              "      <td>-15.0</td>\n",
              "      <td>-293.5</td>\n",
              "      <td>-8.5</td>\n",
              "      <td>-10.5</td>\n",
              "      <td>79.0</td>\n",
              "      <td>-225.75</td>\n",
              "      <td>-14.25</td>\n",
              "    </tr>\n",
              "  </tbody>\n",
              "</table>\n",
              "</div>"
            ],
            "text/plain": [
              "   Cheese  Carcass_Meat  Other_Meat  Fish  Fats_and_Oils  Sugars  \\\n",
              "0   10.75         -0.25       -21.0  16.5         -12.25    1.75   \n",
              "1    8.75        -18.25        97.0  29.5          29.75   20.75   \n",
              "2    8.75         -3.25        44.0  -8.5         -21.25   -7.25   \n",
              "3  -28.25         21.75      -120.0 -37.5           3.75  -15.25   \n",
              "\n",
              "   Fresh_Potatoes  Fresh_Veg  Other_Veg  Processed_Potatoes  Processed_Veg  \\\n",
              "0          -78.25       45.0      30.25                -4.0           11.0   \n",
              "1           75.75       57.0     112.25                 1.0           16.0   \n",
              "2         -232.25      -37.0     -39.75                18.0          -12.0   \n",
              "3          234.75      -65.0    -102.75               -15.0          -15.0   \n",
              "\n",
              "   Fresh_Fruit  Cereals  Beverages  Soft_Drinks  Alcoholic Drinks  \\\n",
              "0        134.5    -30.5       -0.5        -53.0             14.25   \n",
              "1        169.5     79.5       15.5       -171.0            114.25   \n",
              "2        -10.5    -40.5       -4.5        145.0             97.25   \n",
              "3       -293.5     -8.5      -10.5         79.0           -225.75   \n",
              "\n",
              "   Confectionery  \n",
              "0          -1.25  \n",
              "1           8.75  \n",
              "2           6.75  \n",
              "3         -14.25  "
            ]
          },
          "metadata": {
            "tags": []
          },
          "execution_count": 119
        }
      ]
    },
    {
      "metadata": {
        "id": "gCZlxh-4P8he",
        "colab_type": "code",
        "colab": {
          "base_uri": "https://localhost:8080/",
          "height": 202
        },
        "outputId": "6d134772-a811-4487-9fb5-0edb3ac23d11"
      },
      "cell_type": "code",
      "source": [
        "final_center = (centered_data/(X.std()))\n",
        "\n",
        "final_center.head()"
      ],
      "execution_count": 120,
      "outputs": [
        {
          "output_type": "execute_result",
          "data": {
            "text/html": [
              "<div>\n",
              "<style scoped>\n",
              "    .dataframe tbody tr th:only-of-type {\n",
              "        vertical-align: middle;\n",
              "    }\n",
              "\n",
              "    .dataframe tbody tr th {\n",
              "        vertical-align: top;\n",
              "    }\n",
              "\n",
              "    .dataframe thead th {\n",
              "        text-align: right;\n",
              "    }\n",
              "</style>\n",
              "<table border=\"1\" class=\"dataframe\">\n",
              "  <thead>\n",
              "    <tr style=\"text-align: right;\">\n",
              "      <th></th>\n",
              "      <th>Cheese</th>\n",
              "      <th>Carcass_Meat</th>\n",
              "      <th>Other_Meat</th>\n",
              "      <th>Fish</th>\n",
              "      <th>Fats_and_Oils</th>\n",
              "      <th>Sugars</th>\n",
              "      <th>Fresh_Potatoes</th>\n",
              "      <th>Fresh_Veg</th>\n",
              "      <th>Other_Veg</th>\n",
              "      <th>Processed_Potatoes</th>\n",
              "      <th>Processed_Veg</th>\n",
              "      <th>Fresh_Fruit</th>\n",
              "      <th>Cereals</th>\n",
              "      <th>Beverages</th>\n",
              "      <th>Soft_Drinks</th>\n",
              "      <th>Alcoholic Drinks</th>\n",
              "      <th>Confectionery</th>\n",
              "    </tr>\n",
              "  </thead>\n",
              "  <tbody>\n",
              "    <tr>\n",
              "      <th>0</th>\n",
              "      <td>0.570083</td>\n",
              "      <td>-0.015152</td>\n",
              "      <td>-0.224774</td>\n",
              "      <td>0.558227</td>\n",
              "      <td>-0.547700</td>\n",
              "      <td>0.113060</td>\n",
              "      <td>-0.389777</td>\n",
              "      <td>0.747650</td>\n",
              "      <td>0.327129</td>\n",
              "      <td>-0.291214</td>\n",
              "      <td>0.697564</td>\n",
              "      <td>0.638613</td>\n",
              "      <td>-0.557999</td>\n",
              "      <td>-0.044962</td>\n",
              "      <td>-0.376921</td>\n",
              "      <td>0.090931</td>\n",
              "      <td>-0.119774</td>\n",
              "    </tr>\n",
              "    <tr>\n",
              "      <th>1</th>\n",
              "      <td>0.464021</td>\n",
              "      <td>-1.106061</td>\n",
              "      <td>1.038240</td>\n",
              "      <td>0.998043</td>\n",
              "      <td>1.330128</td>\n",
              "      <td>1.340571</td>\n",
              "      <td>0.377324</td>\n",
              "      <td>0.947023</td>\n",
              "      <td>1.213892</td>\n",
              "      <td>0.072804</td>\n",
              "      <td>1.014638</td>\n",
              "      <td>0.804795</td>\n",
              "      <td>1.454458</td>\n",
              "      <td>1.393816</td>\n",
              "      <td>-1.216104</td>\n",
              "      <td>0.729040</td>\n",
              "      <td>0.838419</td>\n",
              "    </tr>\n",
              "    <tr>\n",
              "      <th>2</th>\n",
              "      <td>0.464021</td>\n",
              "      <td>-0.196970</td>\n",
              "      <td>0.470954</td>\n",
              "      <td>-0.287572</td>\n",
              "      <td>-0.950091</td>\n",
              "      <td>-0.468392</td>\n",
              "      <td>-1.156878</td>\n",
              "      <td>-0.614734</td>\n",
              "      <td>-0.429864</td>\n",
              "      <td>1.310463</td>\n",
              "      <td>-0.760979</td>\n",
              "      <td>-0.049855</td>\n",
              "      <td>-0.740950</td>\n",
              "      <td>-0.404656</td>\n",
              "      <td>1.031200</td>\n",
              "      <td>0.620562</td>\n",
              "      <td>0.646780</td>\n",
              "    </tr>\n",
              "    <tr>\n",
              "      <th>3</th>\n",
              "      <td>-1.498124</td>\n",
              "      <td>1.318182</td>\n",
              "      <td>-1.284421</td>\n",
              "      <td>-1.268698</td>\n",
              "      <td>0.167663</td>\n",
              "      <td>-0.985239</td>\n",
              "      <td>1.169331</td>\n",
              "      <td>-1.079939</td>\n",
              "      <td>-1.111157</td>\n",
              "      <td>-1.092053</td>\n",
              "      <td>-0.951223</td>\n",
              "      <td>-1.393554</td>\n",
              "      <td>-0.155508</td>\n",
              "      <td>-0.944198</td>\n",
              "      <td>0.561826</td>\n",
              "      <td>-1.440533</td>\n",
              "      <td>-1.365425</td>\n",
              "    </tr>\n",
              "  </tbody>\n",
              "</table>\n",
              "</div>"
            ],
            "text/plain": [
              "     Cheese  Carcass_Meat  Other_Meat      Fish  Fats_and_Oils    Sugars  \\\n",
              "0  0.570083     -0.015152   -0.224774  0.558227      -0.547700  0.113060   \n",
              "1  0.464021     -1.106061    1.038240  0.998043       1.330128  1.340571   \n",
              "2  0.464021     -0.196970    0.470954 -0.287572      -0.950091 -0.468392   \n",
              "3 -1.498124      1.318182   -1.284421 -1.268698       0.167663 -0.985239   \n",
              "\n",
              "   Fresh_Potatoes  Fresh_Veg  Other_Veg  Processed_Potatoes  Processed_Veg  \\\n",
              "0       -0.389777   0.747650   0.327129           -0.291214       0.697564   \n",
              "1        0.377324   0.947023   1.213892            0.072804       1.014638   \n",
              "2       -1.156878  -0.614734  -0.429864            1.310463      -0.760979   \n",
              "3        1.169331  -1.079939  -1.111157           -1.092053      -0.951223   \n",
              "\n",
              "   Fresh_Fruit   Cereals  Beverages  Soft_Drinks  Alcoholic Drinks  \\\n",
              "0     0.638613 -0.557999  -0.044962    -0.376921          0.090931   \n",
              "1     0.804795  1.454458   1.393816    -1.216104          0.729040   \n",
              "2    -0.049855 -0.740950  -0.404656     1.031200          0.620562   \n",
              "3    -1.393554 -0.155508  -0.944198     0.561826         -1.440533   \n",
              "\n",
              "   Confectionery  \n",
              "0      -0.119774  \n",
              "1       0.838419  \n",
              "2       0.646780  \n",
              "3      -1.365425  "
            ]
          },
          "metadata": {
            "tags": []
          },
          "execution_count": 120
        }
      ]
    },
    {
      "metadata": {
        "id": "5U50KZkdJb_s",
        "colab_type": "text"
      },
      "cell_type": "markdown",
      "source": [
        "## 3.2 Perform PCA on the data and graph Principal Component 1 against Principal Component 2. (You may use library functions)\n",
        "\n",
        "This might be helpful:\n",
        "\n",
        "<https://scikit-learn.org/stable/modules/generated/sklearn.decomposition.PCA.html>"
      ]
    },
    {
      "metadata": {
        "id": "RqjwVokgP1fL",
        "colab_type": "code",
        "colab": {
          "base_uri": "https://localhost:8080/",
          "height": 587
        },
        "outputId": "df7284b0-77b7-40e7-b0ec-0c8fa70a9ca5"
      },
      "cell_type": "code",
      "source": [
        "##### Your Code Here #####\n",
        "covariance_matrix = final_center.cov()\n",
        "covariance_matrix"
      ],
      "execution_count": 121,
      "outputs": [
        {
          "output_type": "execute_result",
          "data": {
            "text/html": [
              "<div>\n",
              "<style scoped>\n",
              "    .dataframe tbody tr th:only-of-type {\n",
              "        vertical-align: middle;\n",
              "    }\n",
              "\n",
              "    .dataframe tbody tr th {\n",
              "        vertical-align: top;\n",
              "    }\n",
              "\n",
              "    .dataframe thead th {\n",
              "        text-align: right;\n",
              "    }\n",
              "</style>\n",
              "<table border=\"1\" class=\"dataframe\">\n",
              "  <thead>\n",
              "    <tr style=\"text-align: right;\">\n",
              "      <th></th>\n",
              "      <th>Cheese</th>\n",
              "      <th>Carcass_Meat</th>\n",
              "      <th>Other_Meat</th>\n",
              "      <th>Fish</th>\n",
              "      <th>Fats_and_Oils</th>\n",
              "      <th>Sugars</th>\n",
              "      <th>Fresh_Potatoes</th>\n",
              "      <th>Fresh_Veg</th>\n",
              "      <th>Other_Veg</th>\n",
              "      <th>Processed_Potatoes</th>\n",
              "      <th>Processed_Veg</th>\n",
              "      <th>Fresh_Fruit</th>\n",
              "      <th>Cereals</th>\n",
              "      <th>Beverages</th>\n",
              "      <th>Soft_Drinks</th>\n",
              "      <th>Alcoholic Drinks</th>\n",
              "      <th>Confectionery</th>\n",
              "    </tr>\n",
              "  </thead>\n",
              "  <tbody>\n",
              "    <tr>\n",
              "      <th>Cheese</th>\n",
              "      <td>1.000000</td>\n",
              "      <td>-0.862690</td>\n",
              "      <td>0.832126</td>\n",
              "      <td>0.849525</td>\n",
              "      <td>-0.129023</td>\n",
              "      <td>0.648391</td>\n",
              "      <td>-0.778579</td>\n",
              "      <td>0.732764</td>\n",
              "      <td>0.738316</td>\n",
              "      <td>0.703960</td>\n",
              "      <td>0.646808</td>\n",
              "      <td>0.934029</td>\n",
              "      <td>0.081982</td>\n",
              "      <td>0.615961</td>\n",
              "      <td>-0.380787</td>\n",
              "      <td>0.945393</td>\n",
              "      <td>0.888819</td>\n",
              "    </tr>\n",
              "    <tr>\n",
              "      <th>Carcass_Meat</th>\n",
              "      <td>-0.862690</td>\n",
              "      <td>1.000000</td>\n",
              "      <td>-0.976938</td>\n",
              "      <td>-0.909362</td>\n",
              "      <td>-0.351585</td>\n",
              "      <td>-0.896977</td>\n",
              "      <td>0.452608</td>\n",
              "      <td>-0.787088</td>\n",
              "      <td>-0.909211</td>\n",
              "      <td>-0.591253</td>\n",
              "      <td>-0.745605</td>\n",
              "      <td>-0.908989</td>\n",
              "      <td>-0.553102</td>\n",
              "      <td>-0.901961</td>\n",
              "      <td>0.629423</td>\n",
              "      <td>-0.942952</td>\n",
              "      <td>-0.950934</td>\n",
              "    </tr>\n",
              "    <tr>\n",
              "      <th>Other_Meat</th>\n",
              "      <td>0.832126</td>\n",
              "      <td>-0.976938</td>\n",
              "      <td>1.000000</td>\n",
              "      <td>0.801614</td>\n",
              "      <td>0.280434</td>\n",
              "      <td>0.803764</td>\n",
              "      <td>-0.522462</td>\n",
              "      <td>0.637590</td>\n",
              "      <td>0.803843</td>\n",
              "      <td>0.720289</td>\n",
              "      <td>0.586676</td>\n",
              "      <td>0.819486</td>\n",
              "      <td>0.495428</td>\n",
              "      <td>0.826465</td>\n",
              "      <td>-0.471286</td>\n",
              "      <td>0.959662</td>\n",
              "      <td>0.985262</td>\n",
              "    </tr>\n",
              "    <tr>\n",
              "      <th>Fish</th>\n",
              "      <td>0.849525</td>\n",
              "      <td>-0.909362</td>\n",
              "      <td>0.801614</td>\n",
              "      <td>1.000000</td>\n",
              "      <td>0.360763</td>\n",
              "      <td>0.928576</td>\n",
              "      <td>-0.330614</td>\n",
              "      <td>0.969808</td>\n",
              "      <td>0.975823</td>\n",
              "      <td>0.306244</td>\n",
              "      <td>0.942568</td>\n",
              "      <td>0.980683</td>\n",
              "      <td>0.516830</td>\n",
              "      <td>0.893420</td>\n",
              "      <td>-0.811154</td>\n",
              "      <td>0.809173</td>\n",
              "      <td>0.772078</td>\n",
              "    </tr>\n",
              "    <tr>\n",
              "      <th>Fats_and_Oils</th>\n",
              "      <td>-0.129023</td>\n",
              "      <td>-0.351585</td>\n",
              "      <td>0.280434</td>\n",
              "      <td>0.360763</td>\n",
              "      <td>1.000000</td>\n",
              "      <td>0.667012</td>\n",
              "      <td>0.670188</td>\n",
              "      <td>0.417721</td>\n",
              "      <td>0.552524</td>\n",
              "      <td>-0.390607</td>\n",
              "      <td>0.510352</td>\n",
              "      <td>0.178144</td>\n",
              "      <td>0.972709</td>\n",
              "      <td>0.701577</td>\n",
              "      <td>-0.765557</td>\n",
              "      <td>0.029600</td>\n",
              "      <td>0.112458</td>\n",
              "    </tr>\n",
              "    <tr>\n",
              "      <th>Sugars</th>\n",
              "      <td>0.648391</td>\n",
              "      <td>-0.896977</td>\n",
              "      <td>0.803764</td>\n",
              "      <td>0.928576</td>\n",
              "      <td>0.667012</td>\n",
              "      <td>1.000000</td>\n",
              "      <td>-0.049479</td>\n",
              "      <td>0.902005</td>\n",
              "      <td>0.986798</td>\n",
              "      <td>0.175599</td>\n",
              "      <td>0.910893</td>\n",
              "      <td>0.849141</td>\n",
              "      <td>0.795661</td>\n",
              "      <td>0.994408</td>\n",
              "      <td>-0.903142</td>\n",
              "      <td>0.705405</td>\n",
              "      <td>0.717580</td>\n",
              "    </tr>\n",
              "    <tr>\n",
              "      <th>Fresh_Potatoes</th>\n",
              "      <td>-0.778579</td>\n",
              "      <td>0.452608</td>\n",
              "      <td>-0.522462</td>\n",
              "      <td>-0.330614</td>\n",
              "      <td>0.670188</td>\n",
              "      <td>-0.049479</td>\n",
              "      <td>1.000000</td>\n",
              "      <td>-0.161905</td>\n",
              "      <td>-0.157162</td>\n",
              "      <td>-0.884013</td>\n",
              "      <td>-0.040327</td>\n",
              "      <td>-0.505699</td>\n",
              "      <td>0.480548</td>\n",
              "      <td>-0.030832</td>\n",
              "      <td>-0.282654</td>\n",
              "      <td>-0.720911</td>\n",
              "      <td>-0.660613</td>\n",
              "    </tr>\n",
              "    <tr>\n",
              "      <th>Fresh_Veg</th>\n",
              "      <td>0.732764</td>\n",
              "      <td>-0.787088</td>\n",
              "      <td>0.637590</td>\n",
              "      <td>0.969808</td>\n",
              "      <td>0.417721</td>\n",
              "      <td>0.902005</td>\n",
              "      <td>-0.161905</td>\n",
              "      <td>1.000000</td>\n",
              "      <td>0.952799</td>\n",
              "      <td>0.074995</td>\n",
              "      <td>0.992494</td>\n",
              "      <td>0.925073</td>\n",
              "      <td>0.527881</td>\n",
              "      <td>0.851597</td>\n",
              "      <td>-0.891379</td>\n",
              "      <td>0.644203</td>\n",
              "      <td>0.593810</td>\n",
              "    </tr>\n",
              "    <tr>\n",
              "      <th>Other_Veg</th>\n",
              "      <td>0.738316</td>\n",
              "      <td>-0.909211</td>\n",
              "      <td>0.803843</td>\n",
              "      <td>0.975823</td>\n",
              "      <td>0.552524</td>\n",
              "      <td>0.986798</td>\n",
              "      <td>-0.157162</td>\n",
              "      <td>0.952799</td>\n",
              "      <td>1.000000</td>\n",
              "      <td>0.214411</td>\n",
              "      <td>0.947977</td>\n",
              "      <td>0.918577</td>\n",
              "      <td>0.691439</td>\n",
              "      <td>0.966777</td>\n",
              "      <td>-0.889024</td>\n",
              "      <td>0.749541</td>\n",
              "      <td>0.739247</td>\n",
              "    </tr>\n",
              "    <tr>\n",
              "      <th>Processed_Potatoes</th>\n",
              "      <td>0.703960</td>\n",
              "      <td>-0.591253</td>\n",
              "      <td>0.720289</td>\n",
              "      <td>0.306244</td>\n",
              "      <td>-0.390607</td>\n",
              "      <td>0.175599</td>\n",
              "      <td>-0.884013</td>\n",
              "      <td>0.074995</td>\n",
              "      <td>0.214411</td>\n",
              "      <td>1.000000</td>\n",
              "      <td>-0.029240</td>\n",
              "      <td>0.443040</td>\n",
              "      <td>-0.177593</td>\n",
              "      <td>0.205132</td>\n",
              "      <td>0.253011</td>\n",
              "      <td>0.804319</td>\n",
              "      <td>0.811539</td>\n",
              "    </tr>\n",
              "    <tr>\n",
              "      <th>Processed_Veg</th>\n",
              "      <td>0.646808</td>\n",
              "      <td>-0.745605</td>\n",
              "      <td>0.586676</td>\n",
              "      <td>0.942568</td>\n",
              "      <td>0.510352</td>\n",
              "      <td>0.910893</td>\n",
              "      <td>-0.040327</td>\n",
              "      <td>0.992494</td>\n",
              "      <td>0.947977</td>\n",
              "      <td>-0.029240</td>\n",
              "      <td>1.000000</td>\n",
              "      <td>0.875189</td>\n",
              "      <td>0.599426</td>\n",
              "      <td>0.862978</td>\n",
              "      <td>-0.938658</td>\n",
              "      <td>0.567059</td>\n",
              "      <td>0.524593</td>\n",
              "    </tr>\n",
              "    <tr>\n",
              "      <th>Fresh_Fruit</th>\n",
              "      <td>0.934029</td>\n",
              "      <td>-0.908989</td>\n",
              "      <td>0.819486</td>\n",
              "      <td>0.980683</td>\n",
              "      <td>0.178144</td>\n",
              "      <td>0.849141</td>\n",
              "      <td>-0.505699</td>\n",
              "      <td>0.925073</td>\n",
              "      <td>0.918577</td>\n",
              "      <td>0.443040</td>\n",
              "      <td>0.875189</td>\n",
              "      <td>1.000000</td>\n",
              "      <td>0.355948</td>\n",
              "      <td>0.809662</td>\n",
              "      <td>-0.684589</td>\n",
              "      <td>0.873773</td>\n",
              "      <td>0.822938</td>\n",
              "    </tr>\n",
              "    <tr>\n",
              "      <th>Cereals</th>\n",
              "      <td>0.081982</td>\n",
              "      <td>-0.553102</td>\n",
              "      <td>0.495428</td>\n",
              "      <td>0.516830</td>\n",
              "      <td>0.972709</td>\n",
              "      <td>0.795661</td>\n",
              "      <td>0.480548</td>\n",
              "      <td>0.527881</td>\n",
              "      <td>0.691439</td>\n",
              "      <td>-0.177593</td>\n",
              "      <td>0.599426</td>\n",
              "      <td>0.355948</td>\n",
              "      <td>1.000000</td>\n",
              "      <td>0.832998</td>\n",
              "      <td>-0.803295</td>\n",
              "      <td>0.257943</td>\n",
              "      <td>0.339794</td>\n",
              "    </tr>\n",
              "    <tr>\n",
              "      <th>Beverages</th>\n",
              "      <td>0.615961</td>\n",
              "      <td>-0.901961</td>\n",
              "      <td>0.826465</td>\n",
              "      <td>0.893420</td>\n",
              "      <td>0.701577</td>\n",
              "      <td>0.994408</td>\n",
              "      <td>-0.030832</td>\n",
              "      <td>0.851597</td>\n",
              "      <td>0.966777</td>\n",
              "      <td>0.205132</td>\n",
              "      <td>0.862978</td>\n",
              "      <td>0.809662</td>\n",
              "      <td>0.832998</td>\n",
              "      <td>1.000000</td>\n",
              "      <td>-0.875278</td>\n",
              "      <td>0.707031</td>\n",
              "      <td>0.733831</td>\n",
              "    </tr>\n",
              "    <tr>\n",
              "      <th>Soft_Drinks</th>\n",
              "      <td>-0.380787</td>\n",
              "      <td>0.629423</td>\n",
              "      <td>-0.471286</td>\n",
              "      <td>-0.811154</td>\n",
              "      <td>-0.765557</td>\n",
              "      <td>-0.903142</td>\n",
              "      <td>-0.282654</td>\n",
              "      <td>-0.891379</td>\n",
              "      <td>-0.889024</td>\n",
              "      <td>0.253011</td>\n",
              "      <td>-0.938658</td>\n",
              "      <td>-0.684589</td>\n",
              "      <td>-0.803295</td>\n",
              "      <td>-0.875278</td>\n",
              "      <td>1.000000</td>\n",
              "      <td>-0.363423</td>\n",
              "      <td>-0.358210</td>\n",
              "    </tr>\n",
              "    <tr>\n",
              "      <th>Alcoholic Drinks</th>\n",
              "      <td>0.945393</td>\n",
              "      <td>-0.942952</td>\n",
              "      <td>0.959662</td>\n",
              "      <td>0.809173</td>\n",
              "      <td>0.029600</td>\n",
              "      <td>0.705405</td>\n",
              "      <td>-0.720911</td>\n",
              "      <td>0.644203</td>\n",
              "      <td>0.749541</td>\n",
              "      <td>0.804319</td>\n",
              "      <td>0.567059</td>\n",
              "      <td>0.873773</td>\n",
              "      <td>0.257943</td>\n",
              "      <td>0.707031</td>\n",
              "      <td>-0.363423</td>\n",
              "      <td>1.000000</td>\n",
              "      <td>0.989552</td>\n",
              "    </tr>\n",
              "    <tr>\n",
              "      <th>Confectionery</th>\n",
              "      <td>0.888819</td>\n",
              "      <td>-0.950934</td>\n",
              "      <td>0.985262</td>\n",
              "      <td>0.772078</td>\n",
              "      <td>0.112458</td>\n",
              "      <td>0.717580</td>\n",
              "      <td>-0.660613</td>\n",
              "      <td>0.593810</td>\n",
              "      <td>0.739247</td>\n",
              "      <td>0.811539</td>\n",
              "      <td>0.524593</td>\n",
              "      <td>0.822938</td>\n",
              "      <td>0.339794</td>\n",
              "      <td>0.733831</td>\n",
              "      <td>-0.358210</td>\n",
              "      <td>0.989552</td>\n",
              "      <td>1.000000</td>\n",
              "    </tr>\n",
              "  </tbody>\n",
              "</table>\n",
              "</div>"
            ],
            "text/plain": [
              "                      Cheese  Carcass_Meat  Other_Meat      Fish  \\\n",
              "Cheese              1.000000     -0.862690    0.832126  0.849525   \n",
              "Carcass_Meat       -0.862690      1.000000   -0.976938 -0.909362   \n",
              "Other_Meat          0.832126     -0.976938    1.000000  0.801614   \n",
              "Fish                0.849525     -0.909362    0.801614  1.000000   \n",
              "Fats_and_Oils      -0.129023     -0.351585    0.280434  0.360763   \n",
              "Sugars              0.648391     -0.896977    0.803764  0.928576   \n",
              "Fresh_Potatoes     -0.778579      0.452608   -0.522462 -0.330614   \n",
              "Fresh_Veg           0.732764     -0.787088    0.637590  0.969808   \n",
              "Other_Veg           0.738316     -0.909211    0.803843  0.975823   \n",
              "Processed_Potatoes  0.703960     -0.591253    0.720289  0.306244   \n",
              "Processed_Veg       0.646808     -0.745605    0.586676  0.942568   \n",
              "Fresh_Fruit         0.934029     -0.908989    0.819486  0.980683   \n",
              "Cereals             0.081982     -0.553102    0.495428  0.516830   \n",
              "Beverages           0.615961     -0.901961    0.826465  0.893420   \n",
              "Soft_Drinks        -0.380787      0.629423   -0.471286 -0.811154   \n",
              "Alcoholic Drinks    0.945393     -0.942952    0.959662  0.809173   \n",
              "Confectionery       0.888819     -0.950934    0.985262  0.772078   \n",
              "\n",
              "                    Fats_and_Oils    Sugars  Fresh_Potatoes  Fresh_Veg  \\\n",
              "Cheese                  -0.129023  0.648391       -0.778579   0.732764   \n",
              "Carcass_Meat            -0.351585 -0.896977        0.452608  -0.787088   \n",
              "Other_Meat               0.280434  0.803764       -0.522462   0.637590   \n",
              "Fish                     0.360763  0.928576       -0.330614   0.969808   \n",
              "Fats_and_Oils            1.000000  0.667012        0.670188   0.417721   \n",
              "Sugars                   0.667012  1.000000       -0.049479   0.902005   \n",
              "Fresh_Potatoes           0.670188 -0.049479        1.000000  -0.161905   \n",
              "Fresh_Veg                0.417721  0.902005       -0.161905   1.000000   \n",
              "Other_Veg                0.552524  0.986798       -0.157162   0.952799   \n",
              "Processed_Potatoes      -0.390607  0.175599       -0.884013   0.074995   \n",
              "Processed_Veg            0.510352  0.910893       -0.040327   0.992494   \n",
              "Fresh_Fruit              0.178144  0.849141       -0.505699   0.925073   \n",
              "Cereals                  0.972709  0.795661        0.480548   0.527881   \n",
              "Beverages                0.701577  0.994408       -0.030832   0.851597   \n",
              "Soft_Drinks             -0.765557 -0.903142       -0.282654  -0.891379   \n",
              "Alcoholic Drinks         0.029600  0.705405       -0.720911   0.644203   \n",
              "Confectionery            0.112458  0.717580       -0.660613   0.593810   \n",
              "\n",
              "                    Other_Veg  Processed_Potatoes  Processed_Veg  Fresh_Fruit  \\\n",
              "Cheese               0.738316            0.703960       0.646808     0.934029   \n",
              "Carcass_Meat        -0.909211           -0.591253      -0.745605    -0.908989   \n",
              "Other_Meat           0.803843            0.720289       0.586676     0.819486   \n",
              "Fish                 0.975823            0.306244       0.942568     0.980683   \n",
              "Fats_and_Oils        0.552524           -0.390607       0.510352     0.178144   \n",
              "Sugars               0.986798            0.175599       0.910893     0.849141   \n",
              "Fresh_Potatoes      -0.157162           -0.884013      -0.040327    -0.505699   \n",
              "Fresh_Veg            0.952799            0.074995       0.992494     0.925073   \n",
              "Other_Veg            1.000000            0.214411       0.947977     0.918577   \n",
              "Processed_Potatoes   0.214411            1.000000      -0.029240     0.443040   \n",
              "Processed_Veg        0.947977           -0.029240       1.000000     0.875189   \n",
              "Fresh_Fruit          0.918577            0.443040       0.875189     1.000000   \n",
              "Cereals              0.691439           -0.177593       0.599426     0.355948   \n",
              "Beverages            0.966777            0.205132       0.862978     0.809662   \n",
              "Soft_Drinks         -0.889024            0.253011      -0.938658    -0.684589   \n",
              "Alcoholic Drinks     0.749541            0.804319       0.567059     0.873773   \n",
              "Confectionery        0.739247            0.811539       0.524593     0.822938   \n",
              "\n",
              "                     Cereals  Beverages  Soft_Drinks  Alcoholic Drinks  \\\n",
              "Cheese              0.081982   0.615961    -0.380787          0.945393   \n",
              "Carcass_Meat       -0.553102  -0.901961     0.629423         -0.942952   \n",
              "Other_Meat          0.495428   0.826465    -0.471286          0.959662   \n",
              "Fish                0.516830   0.893420    -0.811154          0.809173   \n",
              "Fats_and_Oils       0.972709   0.701577    -0.765557          0.029600   \n",
              "Sugars              0.795661   0.994408    -0.903142          0.705405   \n",
              "Fresh_Potatoes      0.480548  -0.030832    -0.282654         -0.720911   \n",
              "Fresh_Veg           0.527881   0.851597    -0.891379          0.644203   \n",
              "Other_Veg           0.691439   0.966777    -0.889024          0.749541   \n",
              "Processed_Potatoes -0.177593   0.205132     0.253011          0.804319   \n",
              "Processed_Veg       0.599426   0.862978    -0.938658          0.567059   \n",
              "Fresh_Fruit         0.355948   0.809662    -0.684589          0.873773   \n",
              "Cereals             1.000000   0.832998    -0.803295          0.257943   \n",
              "Beverages           0.832998   1.000000    -0.875278          0.707031   \n",
              "Soft_Drinks        -0.803295  -0.875278     1.000000         -0.363423   \n",
              "Alcoholic Drinks    0.257943   0.707031    -0.363423          1.000000   \n",
              "Confectionery       0.339794   0.733831    -0.358210          0.989552   \n",
              "\n",
              "                    Confectionery  \n",
              "Cheese                   0.888819  \n",
              "Carcass_Meat            -0.950934  \n",
              "Other_Meat               0.985262  \n",
              "Fish                     0.772078  \n",
              "Fats_and_Oils            0.112458  \n",
              "Sugars                   0.717580  \n",
              "Fresh_Potatoes          -0.660613  \n",
              "Fresh_Veg                0.593810  \n",
              "Other_Veg                0.739247  \n",
              "Processed_Potatoes       0.811539  \n",
              "Processed_Veg            0.524593  \n",
              "Fresh_Fruit              0.822938  \n",
              "Cereals                  0.339794  \n",
              "Beverages                0.733831  \n",
              "Soft_Drinks             -0.358210  \n",
              "Alcoholic Drinks         0.989552  \n",
              "Confectionery            1.000000  "
            ]
          },
          "metadata": {
            "tags": []
          },
          "execution_count": 121
        }
      ]
    },
    {
      "metadata": {
        "id": "rSONCr77YD8L",
        "colab_type": "text"
      },
      "cell_type": "markdown",
      "source": [
        ""
      ]
    },
    {
      "metadata": {
        "id": "xopdujA_SU-_",
        "colab_type": "code",
        "colab": {
          "base_uri": "https://localhost:8080/",
          "height": 2587
        },
        "outputId": "8d5e076e-f547-4233-eed8-02f33f74c666"
      },
      "cell_type": "code",
      "source": [
        "values, vectors = eig(covariance_matrix)\n",
        "print(\"\\n Eigenvectors: \\n\", vectors)\n",
        "print(\"\\n Eigenvalues: \\n\", values)\n",
        "# project data\n",
        "P = vectors.T.dot(final_center.T)\n",
        "print(\"\\n Projected Data: \\n\", P.T)"
      ],
      "execution_count": 122,
      "outputs": [
        {
          "output_type": "stream",
          "text": [
            "\n",
            " Eigenvectors: \n",
            " [[-0.24572131+0.j          0.24708041+0.j          0.18723888+0.j\n",
            "  -0.08753542+0.j          0.35256632+0.j          0.18029535+0.j\n",
            "  -0.12924845+0.13451336j -0.12924845-0.13451336j  0.29139446+0.j\n",
            "  -0.11280686-0.02729061j -0.11280686+0.02729061j  0.09369819+0.j\n",
            "   0.0314145 +0.j         -0.04994538+0.j         -0.17135537+0.10267909j\n",
            "  -0.17135537-0.10267909j  0.00179058+0.j        ]\n",
            " [ 0.28562914+0.j         -0.07716993+0.j          0.15327713+0.j\n",
            "   0.14490725+0.j          0.16543985+0.j         -0.04201117+0.j\n",
            "   0.03470999+0.19119684j  0.03470999-0.19119684j -0.09730855+0.j\n",
            "  -0.0583415 -0.09945449j -0.0583415 +0.09945449j  0.04433632+0.j\n",
            "   0.07955695+0.j          0.10532732+0.j          0.0567134 -0.00992331j\n",
            "   0.0567134 +0.00992331j  0.12493458+0.j        ]\n",
            " [-0.26481055+0.j          0.13610704+0.j         -0.30439545+0.j\n",
            "   0.39511182+0.j         -0.00268756+0.j         -0.10365457+0.j\n",
            "  -0.07010256+0.02204076j -0.07010256-0.02204076j  0.0619978 +0.j\n",
            "  -0.11524848+0.09543896j -0.11524848-0.09543896j -0.04694744+0.j\n",
            "  -0.23500648+0.j          0.22611049+0.j         -0.05465965-0.11227183j\n",
            "  -0.05465965+0.11227183j -0.08200671+0.j        ]\n",
            " [-0.28611787+0.j         -0.01100602+0.j          0.20499304+0.j\n",
            "  -0.08639761+0.j         -0.14999377+0.j         -0.3707251 +0.j\n",
            "  -0.13059371+0.00532542j -0.13059371-0.00532542j -0.40123064+0.j\n",
            "  -0.06409246-0.14064871j -0.06409246+0.14064871j  0.13385363+0.j\n",
            "   0.22479109+0.j          0.22694083+0.j          0.43590126+0.j\n",
            "   0.43590126-0.j         -0.35507712+0.j        ]\n",
            " [-0.12719487+0.j         -0.40054501+0.j         -0.34010234+0.j\n",
            "   0.25388303+0.j          0.24484552+0.j          0.08066839+0.j\n",
            "   0.18194109-0.04650828j  0.18194109+0.04650828j -0.25267417+0.j\n",
            "   0.1437678 +0.03603231j  0.1437678 -0.03603231j -0.30188975+0.j\n",
            "  -0.08860935+0.j         -0.14575371+0.j          0.04125654+0.15713457j\n",
            "   0.04125654-0.15713457j -0.08190428+0.j        ]\n",
            " [-0.2811012 +0.j         -0.13684092+0.j         -0.05073161+0.j\n",
            "   0.10675157+0.j         -0.56375717+0.j         -0.20163696+0.j\n",
            "  -0.48617735+0.j         -0.48617735-0.j          0.26651431+0.j\n",
            "   0.01174257-0.22449988j  0.01174257+0.22449988j  0.13617792+0.j\n",
            "  -0.21473866+0.j         -0.18904437+0.j         -0.1133524 -0.01313166j\n",
            "  -0.1133524 +0.01313166j -0.02819305+0.j        ]\n",
            " [ 0.09775901+0.j         -0.45468785+0.j         -0.11338943+0.j\n",
            "  -0.33379904+0.j         -0.19857109+0.j         -0.0348182 +0.j\n",
            "  -0.22180627-0.06686985j -0.22180627+0.06686985j  0.2208108 +0.j\n",
            "   0.05047942+0.06315522j  0.05047942-0.06315522j -0.19953003+0.j\n",
            "   0.25698296+0.j          0.5441037 +0.j         -0.18022659+0.20309566j\n",
            "  -0.18022659-0.20309566j  0.16884109+0.j        ]\n",
            " [-0.26544997+0.j         -0.0964863 +0.j          0.35064519+0.j\n",
            "   0.26743657+0.j         -0.13632018+0.j          0.11472098+0.j\n",
            "   0.00205192-0.33301812j  0.00205192+0.33301812j  0.19940916+0.j\n",
            "   0.59017704+0.j          0.59017704-0.j         -0.49702816+0.j\n",
            "  -0.11265718+0.j          0.48550274+0.j          0.3888123 +0.02786423j\n",
            "   0.3888123 -0.02786423j  0.13442674+0.j        ]\n",
            " [-0.28708628+0.j         -0.09282322+0.j          0.07333507+0.j\n",
            "  -0.55360296+0.j          0.20286003+0.j         -0.12409801+0.j\n",
            "   0.11252982+0.16722731j  0.11252982-0.16722731j  0.3480947 +0.j\n",
            "  -0.0855962 +0.11792224j -0.0855962 -0.11792224j -0.07528329+0.j\n",
            "   0.60365865+0.j         -0.36343495+0.j          0.02617616+0.01517369j\n",
            "   0.02617616-0.01517369j  0.28888692+0.j        ]\n",
            " [-0.12073819+0.j          0.41036129+0.j         -0.32037834+0.j\n",
            "   0.04912825+0.j         -0.06500144+0.j         -0.17200766+0.j\n",
            "   0.02713764-0.0478825j   0.02713764+0.0478825j   0.00461396+0.j\n",
            "   0.22743271+0.07309877j  0.22743271-0.07309877j -0.22981913+0.j\n",
            "   0.07700093+0.j          0.20603417+0.j          0.20274919+0.13029619j\n",
            "   0.20274919-0.13029619j  0.38307932+0.j        ]\n",
            " [-0.25767815+0.j         -0.1539603 +0.j          0.33340494+0.j\n",
            "  -0.02956885+0.j          0.16929554+0.j         -0.43695312+0.j\n",
            "   0.12544607+0.01574838j  0.12544607-0.01574838j -0.50698746+0.j\n",
            "   0.10491066+0.10655775j  0.10491066-0.10655775j -0.17176549+0.j\n",
            "  -0.20101184+0.j         -0.04316365+0.j         -0.34428163+0.01490775j\n",
            "  -0.34428163-0.01490775j  0.48577798+0.j        ]\n",
            " [-0.27890521+0.j          0.08174644+0.j          0.2428402 +0.j\n",
            "  -0.04610397+0.j         -0.06862006+0.j          0.64790298+0.j\n",
            "   0.21726015-0.0526191j   0.21726015+0.0526191j  -0.10601693+0.j\n",
            "  -0.13184302+0.21125011j -0.13184302-0.21125011j -0.20263331+0.j\n",
            "   0.09258936+0.j         -0.03661791+0.j         -0.08556046-0.0468797j\n",
            "  -0.08556046+0.0468797j  -0.05506405+0.j        ]\n",
            " [-0.17843996+0.j         -0.32902948+0.j         -0.38616448+0.j\n",
            "  -0.14661706+0.j          0.16893162+0.j          0.12182715+0.j\n",
            "   0.16201092-0.01506405j  0.16201092+0.01506405j -0.03090409+0.j\n",
            "   0.15428856+0.10938656j  0.15428856-0.10938656j -0.06953859+0.j\n",
            "   0.16898024+0.j         -0.08511405+0.j          0.20127864-0.21463841j\n",
            "   0.20127864+0.21463841j  0.00815744+0.j        ]\n",
            " [-0.27747513+0.j         -0.13773847+0.j         -0.14839777+0.j\n",
            "  -0.10651715+0.j          0.24448561+0.j          0.28120026+0.j\n",
            "   0.15448072+0.21523308j  0.15448072-0.21523308j -0.17185908+0.j\n",
            "  -0.41320332-0.19512414j -0.41320332+0.19512414j  0.46587532+0.j\n",
            "  -0.4139635 +0.j          0.20962524+0.j          0.11229351+0.0709017j\n",
            "   0.11229351-0.0709017j   0.09974788+0.j        ]\n",
            " [ 0.22771961+0.j          0.29323981+0.j         -0.17168328+0.j\n",
            "  -0.41826828+0.j          0.04740329+0.j         -0.00382418+0.j\n",
            "   0.05721772-0.10440508j  0.05721772+0.10440508j -0.29308534+0.j\n",
            "   0.23304361+0.03282841j  0.23304361-0.03282841j -0.46498224+0.j\n",
            "   0.00731046+0.j          0.21193206+0.j          0.16823123+0.06407573j\n",
            "   0.16823123-0.06407573j  0.27981805+0.j        ]\n",
            " [-0.25509484+0.j          0.23231808+0.j         -0.11736728+0.j\n",
            "  -0.16962648+0.j          0.30246604+0.j         -0.00990829+0.j\n",
            "   0.29514485+0.17269241j  0.29514485-0.17269241j -0.00735154+0.j\n",
            "   0.0268377 +0.03835578j  0.0268377 -0.03835578j -0.04420263+0.j\n",
            "  -0.08282348+0.j          0.13380215+0.j         -0.00592711+0.14925376j\n",
            "  -0.00592711-0.14925376j -0.42479336+0.j        ]\n",
            " [-0.25275834+0.j          0.21105701+0.j         -0.24529742+0.j\n",
            "  -0.02261107+0.j         -0.35950688+0.j         -0.0792952 +0.j\n",
            "  -0.29134124-0.21560167j -0.29134124+0.21560167j -0.10716469+0.j\n",
            "   0.10600654-0.15341077j  0.10600654+0.15341077j  0.05930585+0.j\n",
            "   0.35788799+0.j         -0.05740637+0.j         -0.36724285-0.07074672j\n",
            "  -0.36724285+0.07074672j  0.24396891+0.j        ]]\n",
            "\n",
            " Eigenvalues: \n",
            " [ 1.16157381e+01+0.00000000e+00j  4.22811902e+00+0.00000000e+00j\n",
            "  1.15614285e+00+0.00000000e+00j -4.34853984e-16+0.00000000e+00j\n",
            "  4.42473331e-16+0.00000000e+00j  2.76253735e-16+0.00000000e+00j\n",
            "  2.34294680e-16+1.21333097e-16j  2.34294680e-16-1.21333097e-16j\n",
            "  1.58231914e-16+0.00000000e+00j  7.54828419e-17+8.34027975e-17j\n",
            "  7.54828419e-17-8.34027975e-17j  6.23000213e-17+0.00000000e+00j\n",
            " -2.66840885e-16+0.00000000e+00j -1.98878438e-16+0.00000000e+00j\n",
            " -6.98064714e-17+3.21535850e-17j -6.98064714e-17-3.21535850e-17j\n",
            " -1.44003536e-16+0.00000000e+00j]\n",
            "\n",
            " Projected Data: \n",
            " [[-8.26612447e-01+0.00000000e+00j  2.84332010e-01+0.00000000e+00j\n",
            "   1.58467845e+00+0.00000000e+00j -5.70946699e-16+0.00000000e+00j\n",
            "   1.22965502e-16+0.00000000e+00j  5.75334422e-16+0.00000000e+00j\n",
            "   4.64193485e-16+4.11853226e-16j  4.64193485e-16-4.11853226e-16j\n",
            "   4.87197029e-16+0.00000000e+00j -6.70251137e-16+8.66592849e-17j\n",
            "  -6.70251137e-16-8.66592849e-17j  6.58659660e-16+0.00000000e+00j\n",
            "   2.34622941e-16+0.00000000e+00j -8.25262855e-16+0.00000000e+00j\n",
            "   7.09836826e-18-1.26320530e-16j  7.09836826e-18+1.26320530e-16j\n",
            "  -2.46417117e-16+0.00000000e+00j]\n",
            " [-3.91525836e+00+0.00000000e+00j -1.50288288e+00+0.00000000e+00j\n",
            "  -6.76722601e-01+0.00000000e+00j -2.68287997e-15+0.00000000e+00j\n",
            "   1.38830315e-15+0.00000000e+00j  5.00616160e-17+0.00000000e+00j\n",
            "   4.05147790e-16+1.08798422e-15j  4.05147790e-16-1.08798422e-15j\n",
            "   1.18415862e-15+0.00000000e+00j -6.86939167e-16-1.25938982e-16j\n",
            "  -6.86939167e-16+1.25938982e-16j  1.74439776e-16+0.00000000e+00j\n",
            "   1.90246429e-15+0.00000000e+00j  9.76275516e-16+0.00000000e+00j\n",
            "   1.09565952e-15+6.27046853e-16j  1.09565952e-15-6.27046853e-16j\n",
            "   3.84338101e-17+0.00000000e+00j]\n",
            " [ 4.22601647e-01+0.00000000e+00j  2.80044205e+00+0.00000000e+00j\n",
            "  -6.62637187e-01+0.00000000e+00j  1.37301260e-15+0.00000000e+00j\n",
            "  -1.95116493e-16+0.00000000e+00j  2.26478271e-16+0.00000000e+00j\n",
            "   7.08153148e-18-2.31538988e-16j  7.08153148e-18+2.31538988e-16j\n",
            "  -7.46458382e-16+0.00000000e+00j  5.71388785e-17+2.84861988e-17j\n",
            "   5.71388785e-17-2.84861988e-17j  1.55893514e-17+0.00000000e+00j\n",
            "  -1.01003483e-15+0.00000000e+00j -4.74996962e-17+0.00000000e+00j\n",
            "  -1.17520701e-16-2.26772680e-16j -1.17520701e-16+2.26772680e-16j\n",
            "  -2.44409524e-16+0.00000000e+00j]\n",
            " [ 4.31926916e+00+0.00000000e+00j -1.58189118e+00+0.00000000e+00j\n",
            "  -2.45318660e-01+0.00000000e+00j  2.15745659e-15+0.00000000e+00j\n",
            "  -1.37252335e-15+0.00000000e+00j -9.74107355e-16+0.00000000e+00j\n",
            "  -1.03372247e-15-1.29796353e-15j -1.03372247e-15+1.29796353e-15j\n",
            "  -1.14793193e-15+0.00000000e+00j  1.15538900e-15-2.57933038e-17j\n",
            "   1.15538900e-15+2.57933038e-17j -9.36115012e-16+0.00000000e+00j\n",
            "  -1.17467475e-15+0.00000000e+00j -1.25479762e-16+0.00000000e+00j\n",
            "  -8.81584391e-16-1.48595767e-16j -8.81584391e-16+1.48595767e-16j\n",
            "   4.73544306e-16+0.00000000e+00j]]\n"
          ],
          "name": "stdout"
        }
      ]
    },
    {
      "metadata": {
        "id": "jiNLVHNwSUxl",
        "colab_type": "code",
        "colab": {
          "base_uri": "https://localhost:8080/",
          "height": 322
        },
        "outputId": "316918cb-d98a-4e01-a0b0-e1ed4ea7b43c"
      },
      "cell_type": "code",
      "source": [
        "X.plot()"
      ],
      "execution_count": 68,
      "outputs": [
        {
          "output_type": "execute_result",
          "data": {
            "text/plain": [
              "<matplotlib.axes._subplots.AxesSubplot at 0x7f9007e5e6d8>"
            ]
          },
          "metadata": {
            "tags": []
          },
          "execution_count": 68
        },
        {
          "output_type": "display_data",
          "data": {
            "image/png": "[encoded data removed]",
            "text/plain": [
              "<Figure size 432x288 with 1 Axes>"
            ]
          },
          "metadata": {
            "tags": []
          }
        }
      ]
    },
    {
      "metadata": {
        "id": "k1otzzZdTGxR",
        "colab_type": "code",
        "colab": {}
      },
      "cell_type": "code",
      "source": [
        "Pt.shape\n",
        "X.shape"
      ],
      "execution_count": 0,
      "outputs": []
    },
    {
      "metadata": {
        "id": "zYwQX5VZSn9l",
        "colab_type": "code",
        "colab": {
          "base_uri": "https://localhost:8080/",
          "height": 608
        },
        "outputId": "63a8f304-18d7-4169-d523-f0a4e5cbed86"
      },
      "cell_type": "code",
      "source": [
        "Pt = P.T\n",
        "\n",
        "plt.plot(Pt)"
      ],
      "execution_count": 69,
      "outputs": [
        {
          "output_type": "stream",
          "text": [
            "/usr/local/lib/python3.6/dist-packages/numpy/core/numeric.py:538: ComplexWarning: Casting complex values to real discards the imaginary part\n",
            "  return array(a, dtype, copy=False, order=order)\n"
          ],
          "name": "stderr"
        },
        {
          "output_type": "execute_result",
          "data": {
            "text/plain": [
              "[<matplotlib.lines.Line2D at 0x7f900164a128>,\n",
              " <matplotlib.lines.Line2D at 0x7f900164a2e8>,\n",
              " <matplotlib.lines.Line2D at 0x7f900164a438>,\n",
              " <matplotlib.lines.Line2D at 0x7f900164a588>,\n",
              " <matplotlib.lines.Line2D at 0x7f900164a6d8>,\n",
              " <matplotlib.lines.Line2D at 0x7f900164a828>,\n",
              " <matplotlib.lines.Line2D at 0x7f900164a978>,\n",
              " <matplotlib.lines.Line2D at 0x7f900164aac8>,\n",
              " <matplotlib.lines.Line2D at 0x7f900164ac18>,\n",
              " <matplotlib.lines.Line2D at 0x7f900164ad68>,\n",
              " <matplotlib.lines.Line2D at 0x7f9001698198>,\n",
              " <matplotlib.lines.Line2D at 0x7f900164afd0>,\n",
              " <matplotlib.lines.Line2D at 0x7f900164f160>,\n",
              " <matplotlib.lines.Line2D at 0x7f900164f2b0>,\n",
              " <matplotlib.lines.Line2D at 0x7f900164f400>,\n",
              " <matplotlib.lines.Line2D at 0x7f900164f550>,\n",
              " <matplotlib.lines.Line2D at 0x7f900164f6a0>]"
            ]
          },
          "metadata": {
            "tags": []
          },
          "execution_count": 69
        },
        {
          "output_type": "display_data",
          "data": {
            "image/png": "[encoded data removed]",
            "text/plain": [
              "<Figure size 432x288 with 1 Axes>"
            ]
          },
          "metadata": {
            "tags": []
          }
        }
      ]
    },
    {
      "metadata": {
        "id": "J5-ozooWY8AG",
        "colab_type": "code",
        "colab": {
          "base_uri": "https://localhost:8080/",
          "height": 134
        },
        "outputId": "0871dc2a-3d3e-4f0b-bdb4-65a341179258"
      },
      "cell_type": "code",
      "source": [
        "print(\"\\n Eigenvectors: \\n\", pca.components_)\n",
        "print(\"\\n Eigenvalues: \\n\",pca.explained_variance_)\n",
        "# transform data"
      ],
      "execution_count": 109,
      "outputs": [
        {
          "output_type": "stream",
          "text": [
            "\n",
            " Eigenvectors: \n",
            " [[ 0.70710678  0.70710678]\n",
            " [ 0.70710678 -0.70710678]]\n",
            "\n",
            " Eigenvalues: \n",
            " [1.37359373 0.63645652]\n"
          ],
          "name": "stdout"
        }
      ]
    },
    {
      "metadata": {
        "id": "z-RzYKR0C6Wg",
        "colab_type": "text"
      },
      "cell_type": "markdown",
      "source": [
        "# Clustering"
      ]
    },
    {
      "metadata": {
        "id": "62efk4plJe54",
        "colab_type": "text"
      },
      "cell_type": "markdown",
      "source": [
        "## 4.1 Use K-Means to cluster the following data and then graph your results. (You may use library functions)\n",
        "\n",
        "We have included some code to get you started so that you don't get stuck on something that isn't standardizing clustering.\n",
        "\n",
        "Prioritize calculating the clusters over graphing them. \n",
        "\n",
        "Scikit-Learn K-Means Documentation:\n",
        "\n",
        "<https://scikit-learn.org/stable/modules/generated/sklearn.cluster.KMeans.html>"
      ]
    },
    {
      "metadata": {
        "id": "V8-q5Y3ST7Or",
        "colab_type": "code",
        "colab": {}
      },
      "cell_type": "code",
      "source": [
        "import pandas as pd\n",
        "import numpy as np\n",
        "import matplotlib.pyplot as plt\n",
        "from sklearn.decomposition import PCA # You don't necessarily have to use this\n",
        "from sklearn.cluster import KMeans # You don't necessarily have to use this\n",
        "from sklearn.preprocessing import StandardScaler "
      ],
      "execution_count": 0,
      "outputs": []
    },
    {
      "metadata": {
        "id": "miK5Aeg-JlzJ",
        "colab_type": "code",
        "outputId": "42a79127-2c0e-4d97-aace-5050b1e21ecf",
        "colab": {
          "base_uri": "https://localhost:8080/",
          "height": 195
        }
      },
      "cell_type": "code",
      "source": [
        "points = pd.read_csv('https://raw.githubusercontent.com/ryanleeallred/datasets/master/points.csv')\n",
        "points.head()"
      ],
      "execution_count": 124,
      "outputs": [
        {
          "output_type": "execute_result",
          "data": {
            "text/html": [
              "<div>\n",
              "<style scoped>\n",
              "    .dataframe tbody tr th:only-of-type {\n",
              "        vertical-align: middle;\n",
              "    }\n",
              "\n",
              "    .dataframe tbody tr th {\n",
              "        vertical-align: top;\n",
              "    }\n",
              "\n",
              "    .dataframe thead th {\n",
              "        text-align: right;\n",
              "    }\n",
              "</style>\n",
              "<table border=\"1\" class=\"dataframe\">\n",
              "  <thead>\n",
              "    <tr style=\"text-align: right;\">\n",
              "      <th></th>\n",
              "      <th>x</th>\n",
              "      <th>y</th>\n",
              "    </tr>\n",
              "  </thead>\n",
              "  <tbody>\n",
              "    <tr>\n",
              "      <th>0</th>\n",
              "      <td>-7.846803</td>\n",
              "      <td>-3.421277</td>\n",
              "    </tr>\n",
              "    <tr>\n",
              "      <th>1</th>\n",
              "      <td>-3.554323</td>\n",
              "      <td>-6.884729</td>\n",
              "    </tr>\n",
              "    <tr>\n",
              "      <th>2</th>\n",
              "      <td>-0.192822</td>\n",
              "      <td>-9.671030</td>\n",
              "    </tr>\n",
              "    <tr>\n",
              "      <th>3</th>\n",
              "      <td>-6.401456</td>\n",
              "      <td>-5.223972</td>\n",
              "    </tr>\n",
              "    <tr>\n",
              "      <th>4</th>\n",
              "      <td>-0.804026</td>\n",
              "      <td>-9.704457</td>\n",
              "    </tr>\n",
              "  </tbody>\n",
              "</table>\n",
              "</div>"
            ],
            "text/plain": [
              "          x         y\n",
              "0 -7.846803 -3.421277\n",
              "1 -3.554323 -6.884729\n",
              "2 -0.192822 -9.671030\n",
              "3 -6.401456 -5.223972\n",
              "4 -0.804026 -9.704457"
            ]
          },
          "metadata": {
            "tags": []
          },
          "execution_count": 124
        }
      ]
    },
    {
      "metadata": {
        "id": "YADaxW15Tuoc",
        "colab_type": "code",
        "colab": {
          "base_uri": "https://localhost:8080/",
          "height": 34
        },
        "outputId": "9bf440f0-f123-42c5-992d-11b26c5af6ce"
      },
      "cell_type": "code",
      "source": [
        "points.shape"
      ],
      "execution_count": 76,
      "outputs": [
        {
          "output_type": "execute_result",
          "data": {
            "text/plain": [
              "(200, 2)"
            ]
          },
          "metadata": {
            "tags": []
          },
          "execution_count": 76
        }
      ]
    },
    {
      "metadata": {
        "id": "Tw7o2jHFXT3k",
        "colab_type": "code",
        "colab": {
          "base_uri": "https://localhost:8080/",
          "height": 284
        },
        "outputId": "1d8a92ec-ebd9-4102-cba5-aee049e30420"
      },
      "cell_type": "code",
      "source": [
        "points.describe()"
      ],
      "execution_count": 106,
      "outputs": [
        {
          "output_type": "execute_result",
          "data": {
            "text/html": [
              "<div>\n",
              "<style scoped>\n",
              "    .dataframe tbody tr th:only-of-type {\n",
              "        vertical-align: middle;\n",
              "    }\n",
              "\n",
              "    .dataframe tbody tr th {\n",
              "        vertical-align: top;\n",
              "    }\n",
              "\n",
              "    .dataframe thead th {\n",
              "        text-align: right;\n",
              "    }\n",
              "</style>\n",
              "<table border=\"1\" class=\"dataframe\">\n",
              "  <thead>\n",
              "    <tr style=\"text-align: right;\">\n",
              "      <th></th>\n",
              "      <th>x</th>\n",
              "      <th>y</th>\n",
              "    </tr>\n",
              "  </thead>\n",
              "  <tbody>\n",
              "    <tr>\n",
              "      <th>count</th>\n",
              "      <td>200.000000</td>\n",
              "      <td>200.000000</td>\n",
              "    </tr>\n",
              "    <tr>\n",
              "      <th>mean</th>\n",
              "      <td>-2.323298</td>\n",
              "      <td>-3.422869</td>\n",
              "    </tr>\n",
              "    <tr>\n",
              "      <th>std</th>\n",
              "      <td>4.556513</td>\n",
              "      <td>5.580888</td>\n",
              "    </tr>\n",
              "    <tr>\n",
              "      <th>min</th>\n",
              "      <td>-10.118473</td>\n",
              "      <td>-11.095795</td>\n",
              "    </tr>\n",
              "    <tr>\n",
              "      <th>25%</th>\n",
              "      <td>-4.619520</td>\n",
              "      <td>-8.246848</td>\n",
              "    </tr>\n",
              "    <tr>\n",
              "      <th>50%</th>\n",
              "      <td>-3.373794</td>\n",
              "      <td>-5.307697</td>\n",
              "    </tr>\n",
              "    <tr>\n",
              "      <th>75%</th>\n",
              "      <td>-0.427175</td>\n",
              "      <td>3.360028</td>\n",
              "    </tr>\n",
              "    <tr>\n",
              "      <th>max</th>\n",
              "      <td>7.807885</td>\n",
              "      <td>5.883054</td>\n",
              "    </tr>\n",
              "  </tbody>\n",
              "</table>\n",
              "</div>"
            ],
            "text/plain": [
              "                x           y\n",
              "count  200.000000  200.000000\n",
              "mean    -2.323298   -3.422869\n",
              "std      4.556513    5.580888\n",
              "min    -10.118473  -11.095795\n",
              "25%     -4.619520   -8.246848\n",
              "50%     -3.373794   -5.307697\n",
              "75%     -0.427175    3.360028\n",
              "max      7.807885    5.883054"
            ]
          },
          "metadata": {
            "tags": []
          },
          "execution_count": 106
        }
      ]
    },
    {
      "metadata": {
        "id": "jnMuRZYVXXG7",
        "colab_type": "text"
      },
      "cell_type": "markdown",
      "source": [
        "Even though this specific dataset isn't huge, we will perform PCA to get into lower dimensional dataset."
      ]
    },
    {
      "metadata": {
        "id": "qX0zKKznTzcI",
        "colab_type": "code",
        "colab": {
          "base_uri": "https://localhost:8080/",
          "height": 269
        },
        "outputId": "d4df6ed1-b881-4c6c-d682-e7e40da2beb9"
      },
      "cell_type": "code",
      "source": [
        "#to see what it looks like initially\n",
        "plt.scatter(points.x, points.y)\n",
        "plt.show()\n"
      ],
      "execution_count": 82,
      "outputs": [
        {
          "output_type": "display_data",
          "data": {
            "image/png": "[encoded data removed]",
            "text/plain": [
              "<Figure size 432x288 with 1 Axes>"
            ]
          },
          "metadata": {
            "tags": []
          }
        }
      ]
    },
    {
      "metadata": {
        "id": "7f9ikni8U_GJ",
        "colab_type": "code",
        "colab": {
          "base_uri": "https://localhost:8080/",
          "height": 34
        },
        "outputId": "f729c165-1336-476f-c9bc-b6f6adcb6cb6"
      },
      "cell_type": "code",
      "source": [
        "#We standardize the data\n",
        "scaler = StandardScaler() #we center and scale each feature independently\n",
        "scaled = (scaler.fit(points)) #computes the mean and std to be used for later scaling\n",
        "scaled"
      ],
      "execution_count": 84,
      "outputs": [
        {
          "output_type": "execute_result",
          "data": {
            "text/plain": [
              "StandardScaler(copy=True, with_mean=True, with_std=True)"
            ]
          },
          "metadata": {
            "tags": []
          },
          "execution_count": 84
        }
      ]
    },
    {
      "metadata": {
        "id": "JxA-o1txU-ut",
        "colab_type": "code",
        "colab": {}
      },
      "cell_type": "code",
      "source": [
        "final_scaled = (scaler.transform(points)) #fit and then transform points"
      ],
      "execution_count": 0,
      "outputs": []
    },
    {
      "metadata": {
        "id": "vU1P3RnVdCS7",
        "colab_type": "text"
      },
      "cell_type": "markdown",
      "source": [
        "#PCA#\n",
        "- perform PCA on the scaled data"
      ]
    },
    {
      "metadata": {
        "id": "6tUzE4LtVzyP",
        "colab_type": "code",
        "colab": {
          "base_uri": "https://localhost:8080/",
          "height": 50
        },
        "outputId": "dd226800-4388-4011-b1cd-8f70b0186ddf"
      },
      "cell_type": "code",
      "source": [
        "pca = PCA(2)\n",
        "pca.fit(final_scaled)"
      ],
      "execution_count": 136,
      "outputs": [
        {
          "output_type": "execute_result",
          "data": {
            "text/plain": [
              "PCA(copy=True, iterated_power='auto', n_components=2, random_state=None,\n",
              "  svd_solver='auto', tol=0.0, whiten=False)"
            ]
          },
          "metadata": {
            "tags": []
          },
          "execution_count": 136
        }
      ]
    },
    {
      "metadata": {
        "id": "Q3TQuUIlV4bz",
        "colab_type": "code",
        "colab": {}
      },
      "cell_type": "code",
      "source": [
        "points_pca = pd.DataFrame(pca.transform(final_scaled))"
      ],
      "execution_count": 0,
      "outputs": []
    },
    {
      "metadata": {
        "id": "5TFtfXf0V4Rq",
        "colab_type": "code",
        "colab": {
          "base_uri": "https://localhost:8080/",
          "height": 286
        },
        "outputId": "917ecde5-a23d-4463-c8bd-ef690b14e769"
      },
      "cell_type": "code",
      "source": [
        "plt.scatter(points_pca[0], points_pca[1])\n"
      ],
      "execution_count": 138,
      "outputs": [
        {
          "output_type": "execute_result",
          "data": {
            "text/plain": [
              "<matplotlib.collections.PathCollection at 0x7f8ff54c1cf8>"
            ]
          },
          "metadata": {
            "tags": []
          },
          "execution_count": 138
        },
        {
          "output_type": "display_data",
          "data": {
            "image/png": "[encoded data removed]",
            "text/plain": [
              "<Figure size 432x288 with 1 Axes>"
            ]
          },
          "metadata": {
            "tags": []
          }
        }
      ]
    },
    {
      "metadata": {
        "id": "TIeSnWNcdVIJ",
        "colab_type": "text"
      },
      "cell_type": "markdown",
      "source": [
        "###get kmeans using Scikit-Learn###"
      ]
    },
    {
      "metadata": {
        "id": "uUJT14gJWEMp",
        "colab_type": "code",
        "colab": {
          "base_uri": "https://localhost:8080/",
          "height": 118
        },
        "outputId": "be6c2b04-a1d6-4119-d8bf-99463736e995"
      },
      "cell_type": "code",
      "source": [
        "kmeans = KMeans(n_clusters = 4)\n",
        "kmeans.fit(points_pca)\n",
        "\n",
        "labels = kmeans.labels_\n",
        "print(labels)"
      ],
      "execution_count": 139,
      "outputs": [
        {
          "output_type": "stream",
          "text": [
            "[3 0 0 3 0 0 3 3 2 0 0 0 0 0 3 0 3 0 0 1 3 1 1 1 0 0 0 2 0 0 0 0 0 1 0 0 0\n",
            " 0 2 0 0 1 2 2 2 0 0 0 3 0 1 3 3 2 1 0 0 2 2 3 1 0 3 2 1 2 1 2 3 2 0 0 0 0\n",
            " 1 1 0 0 2 1 2 0 0 0 2 0 2 0 0 1 2 0 1 0 0 0 0 0 0 0 0 0 3 0 0 1 3 3 3 1 0\n",
            " 1 0 3 0 0 2 2 1 2 1 0 0 3 0 3 0 1 2 3 0 3 0 3 2 2 0 1 3 0 2 0 0 1 0 2 0 2\n",
            " 3 0 0 0 3 1 0 2 0 1 0 3 0 0 2 3 1 1 0 2 0 0 3 0 2 1 0 0 0 0 0 3 0 0 0 0 0\n",
            " 0 3 1 2 0 0 3 1 3 0 2 1 1 0 0]\n"
          ],
          "name": "stdout"
        }
      ]
    },
    {
      "metadata": {
        "id": "yszcJLlfWPkJ",
        "colab_type": "code",
        "colab": {
          "base_uri": "https://localhost:8080/",
          "height": 195
        },
        "outputId": "9c1bc8f3-f002-42ee-8574-74339ee29079"
      },
      "cell_type": "code",
      "source": [
        "pca_df['cluster'] = labels\n",
        "\n",
        "pca_df = pca_df.rename({0:\"x\", 1:\"y\"}, axis = 'columns')\n",
        "pca_df.sample(5)\n"
      ],
      "execution_count": 140,
      "outputs": [
        {
          "output_type": "execute_result",
          "data": {
            "text/html": [
              "<div>\n",
              "<style scoped>\n",
              "    .dataframe tbody tr th:only-of-type {\n",
              "        vertical-align: middle;\n",
              "    }\n",
              "\n",
              "    .dataframe tbody tr th {\n",
              "        vertical-align: top;\n",
              "    }\n",
              "\n",
              "    .dataframe thead th {\n",
              "        text-align: right;\n",
              "    }\n",
              "</style>\n",
              "<table border=\"1\" class=\"dataframe\">\n",
              "  <thead>\n",
              "    <tr style=\"text-align: right;\">\n",
              "      <th></th>\n",
              "      <th>x</th>\n",
              "      <th>y</th>\n",
              "      <th>cluster</th>\n",
              "    </tr>\n",
              "  </thead>\n",
              "  <tbody>\n",
              "    <tr>\n",
              "      <th>183</th>\n",
              "      <td>-0.665563</td>\n",
              "      <td>0.529501</td>\n",
              "      <td>0</td>\n",
              "    </tr>\n",
              "    <tr>\n",
              "      <th>113</th>\n",
              "      <td>-1.203929</td>\n",
              "      <td>-1.221545</td>\n",
              "      <td>3</td>\n",
              "    </tr>\n",
              "    <tr>\n",
              "      <th>151</th>\n",
              "      <td>-0.581301</td>\n",
              "      <td>0.956215</td>\n",
              "      <td>0</td>\n",
              "    </tr>\n",
              "    <tr>\n",
              "      <th>22</th>\n",
              "      <td>2.338904</td>\n",
              "      <td>0.339630</td>\n",
              "      <td>1</td>\n",
              "    </tr>\n",
              "    <tr>\n",
              "      <th>52</th>\n",
              "      <td>-0.867449</td>\n",
              "      <td>-0.960695</td>\n",
              "      <td>3</td>\n",
              "    </tr>\n",
              "  </tbody>\n",
              "</table>\n",
              "</div>"
            ],
            "text/plain": [
              "            x         y  cluster\n",
              "183 -0.665563  0.529501        0\n",
              "113 -1.203929 -1.221545        3\n",
              "151 -0.581301  0.956215        0\n",
              "22   2.338904  0.339630        1\n",
              "52  -0.867449 -0.960695        3"
            ]
          },
          "metadata": {
            "tags": []
          },
          "execution_count": 140
        }
      ]
    },
    {
      "metadata": {
        "id": "mxmxynC4WY6K",
        "colab_type": "code",
        "colab": {}
      },
      "cell_type": "code",
      "source": [
        "def plot_clusters(df, column_header, centroids):\n",
        "  colors = {0:'red', 1:'green', 2:'teal', 3: 'pink', 4:'teal'}\n",
        "  fig, ax = plt.subplots()\n",
        "  ax.plot(centroids.iloc[0].x, centroids.iloc[0].y, \"ok\")\n",
        "  ax.plot(centroids.iloc[1].x, centroids.iloc[1].y, \"ok\")\n",
        "  ax.plot(centroids.iloc[2].x, centroids.iloc[2].y, \"ok\")\n",
        "  ax.plot(centroids.iloc[3].x, centroids.iloc[3].y, \"ok\")\n",
        "  plt.title('PCA with k-means clustering')\n",
        "  \n",
        "  grouped = df.groupby(column_header)\n",
        "  for key, group in grouped:\n",
        "    group.plot(ax=ax, kind='scatter', x='x', y='y', label=key, color=colors[key])\n",
        "  plt.show()\n"
      ],
      "execution_count": 0,
      "outputs": []
    },
    {
      "metadata": {
        "id": "JIv6O9ifWhuX",
        "colab_type": "code",
        "colab": {}
      },
      "cell_type": "code",
      "source": [
        "def get_centroids(df, column):\n",
        "  return df.groupby(column).mean()"
      ],
      "execution_count": 0,
      "outputs": []
    },
    {
      "metadata": {
        "id": "4oYX8Ln-WhfH",
        "colab_type": "code",
        "colab": {
          "base_uri": "https://localhost:8080/",
          "height": 295
        },
        "outputId": "7c153453-0fcf-4443-c6c2-fbd02c123331"
      },
      "cell_type": "code",
      "source": [
        "centroids = get_centroids(pca_df, 'cluster')\n",
        "plot_clusters(pca_df, 'cluster', centroids)"
      ],
      "execution_count": 143,
      "outputs": [
        {
          "output_type": "display_data",
          "data": {
            "image/png": "[encoded data removed]",
            "text/plain": [
              "<Figure size 432x288 with 1 Axes>"
            ]
          },
          "metadata": {
            "tags": []
          }
        }
      ]
    },
    {
      "metadata": {
        "id": "KqsB72pZXAWC",
        "colab_type": "code",
        "colab": {
          "base_uri": "https://localhost:8080/",
          "height": 34
        },
        "outputId": "4fee1adc-8090-44e8-f501-127b03c8cc7f"
      },
      "cell_type": "code",
      "source": [
        "pca_df.shape"
      ],
      "execution_count": 105,
      "outputs": [
        {
          "output_type": "execute_result",
          "data": {
            "text/plain": [
              "(200, 3)"
            ]
          },
          "metadata": {
            "tags": []
          },
          "execution_count": 105
        }
      ]
    },
    {
      "metadata": {
        "id": "64yisVa-XAJk",
        "colab_type": "code",
        "colab": {}
      },
      "cell_type": "code",
      "source": [
        ""
      ],
      "execution_count": 0,
      "outputs": []
    }
  ]
}